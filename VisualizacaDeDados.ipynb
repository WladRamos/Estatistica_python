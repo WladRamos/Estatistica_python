{
 "cells": [
  {
   "cell_type": "code",
   "execution_count": 2,
   "metadata": {},
   "outputs": [],
   "source": [
    "import pandas as pd\n",
    "import pygwalker as pyg"
   ]
  },
  {
   "cell_type": "code",
   "execution_count": 14,
   "metadata": {},
   "outputs": [
    {
     "data": {
      "text/html": [
       "<div>\n",
       "<style scoped>\n",
       "    .dataframe tbody tr th:only-of-type {\n",
       "        vertical-align: middle;\n",
       "    }\n",
       "\n",
       "    .dataframe tbody tr th {\n",
       "        vertical-align: top;\n",
       "    }\n",
       "\n",
       "    .dataframe thead th {\n",
       "        text-align: right;\n",
       "    }\n",
       "</style>\n",
       "<table border=\"1\" class=\"dataframe\">\n",
       "  <thead>\n",
       "    <tr style=\"text-align: right;\">\n",
       "      <th></th>\n",
       "      <th>Espacialidades</th>\n",
       "      <th>ND</th>\n",
       "      <th>EV</th>\n",
       "      <th>Mi</th>\n",
       "      <th>PS60</th>\n",
       "      <th>QL</th>\n",
       "      <th>PIB</th>\n",
       "      <th>RP</th>\n",
       "      <th>Gi</th>\n",
       "      <th>P</th>\n",
       "      <th>VP</th>\n",
       "      <th>FC18</th>\n",
       "      <th>SC25</th>\n",
       "      <th>EAE</th>\n",
       "      <th>T18</th>\n",
       "      <th>PDA</th>\n",
       "      <th>PDBA</th>\n",
       "      <th>PDCL</th>\n",
       "    </tr>\n",
       "  </thead>\n",
       "  <tbody>\n",
       "    <tr>\n",
       "      <th>0</th>\n",
       "      <td>Angra dos Reis</td>\n",
       "      <td>Outros</td>\n",
       "      <td>75.75</td>\n",
       "      <td>12.97</td>\n",
       "      <td>83.19</td>\n",
       "      <td>1.426171</td>\n",
       "      <td>4.540722e+06</td>\n",
       "      <td>798.68</td>\n",
       "      <td>0.50</td>\n",
       "      <td>6.69</td>\n",
       "      <td>21.42</td>\n",
       "      <td>55.41</td>\n",
       "      <td>7.42</td>\n",
       "      <td>9.00</td>\n",
       "      <td>5.43</td>\n",
       "      <td>92.49</td>\n",
       "      <td>95.45</td>\n",
       "      <td>99.26</td>\n",
       "    </tr>\n",
       "    <tr>\n",
       "      <th>1</th>\n",
       "      <td>Aperibé</td>\n",
       "      <td>C.Vicioso</td>\n",
       "      <td>72.10</td>\n",
       "      <td>18.40</td>\n",
       "      <td>77.85</td>\n",
       "      <td>1.113099</td>\n",
       "      <td>4.077564e+04</td>\n",
       "      <td>516.14</td>\n",
       "      <td>0.43</td>\n",
       "      <td>9.40</td>\n",
       "      <td>29.72</td>\n",
       "      <td>51.36</td>\n",
       "      <td>5.94</td>\n",
       "      <td>8.95</td>\n",
       "      <td>11.06</td>\n",
       "      <td>96.84</td>\n",
       "      <td>99.52</td>\n",
       "      <td>97.07</td>\n",
       "    </tr>\n",
       "    <tr>\n",
       "      <th>2</th>\n",
       "      <td>Araruama</td>\n",
       "      <td>Outros</td>\n",
       "      <td>75.32</td>\n",
       "      <td>14.18</td>\n",
       "      <td>82.88</td>\n",
       "      <td>0.409663</td>\n",
       "      <td>5.643963e+05</td>\n",
       "      <td>680.88</td>\n",
       "      <td>0.54</td>\n",
       "      <td>11.60</td>\n",
       "      <td>32.86</td>\n",
       "      <td>55.57</td>\n",
       "      <td>10.27</td>\n",
       "      <td>8.84</td>\n",
       "      <td>7.84</td>\n",
       "      <td>96.08</td>\n",
       "      <td>94.42</td>\n",
       "      <td>95.64</td>\n",
       "    </tr>\n",
       "    <tr>\n",
       "      <th>3</th>\n",
       "      <td>Areal</td>\n",
       "      <td>C.Vicioso</td>\n",
       "      <td>74.35</td>\n",
       "      <td>15.00</td>\n",
       "      <td>81.22</td>\n",
       "      <td>0.326421</td>\n",
       "      <td>8.742154e+04</td>\n",
       "      <td>571.74</td>\n",
       "      <td>0.48</td>\n",
       "      <td>11.13</td>\n",
       "      <td>32.21</td>\n",
       "      <td>46.76</td>\n",
       "      <td>6.24</td>\n",
       "      <td>9.21</td>\n",
       "      <td>7.77</td>\n",
       "      <td>85.66</td>\n",
       "      <td>98.20</td>\n",
       "      <td>98.57</td>\n",
       "    </tr>\n",
       "    <tr>\n",
       "      <th>4</th>\n",
       "      <td>Armação dos Búzios</td>\n",
       "      <td>C.Vicioso</td>\n",
       "      <td>74.44</td>\n",
       "      <td>14.80</td>\n",
       "      <td>81.36</td>\n",
       "      <td>0.054656</td>\n",
       "      <td>5.751335e+05</td>\n",
       "      <td>851.39</td>\n",
       "      <td>0.51</td>\n",
       "      <td>3.69</td>\n",
       "      <td>17.24</td>\n",
       "      <td>58.03</td>\n",
       "      <td>11.25</td>\n",
       "      <td>9.09</td>\n",
       "      <td>4.83</td>\n",
       "      <td>83.53</td>\n",
       "      <td>96.31</td>\n",
       "      <td>98.55</td>\n",
       "    </tr>\n",
       "  </tbody>\n",
       "</table>\n",
       "</div>"
      ],
      "text/plain": [
       "       Espacialidades         ND     EV     Mi   PS60        QL           PIB  \\\n",
       "0      Angra dos Reis     Outros  75.75  12.97  83.19  1.426171  4.540722e+06   \n",
       "1             Aperibé  C.Vicioso  72.10  18.40  77.85  1.113099  4.077564e+04   \n",
       "2            Araruama     Outros  75.32  14.18  82.88  0.409663  5.643963e+05   \n",
       "3               Areal  C.Vicioso  74.35  15.00  81.22  0.326421  8.742154e+04   \n",
       "4  Armação dos Búzios  C.Vicioso  74.44  14.80  81.36  0.054656  5.751335e+05   \n",
       "\n",
       "       RP    Gi      P     VP   FC18   SC25   EAE    T18    PDA   PDBA   PDCL  \n",
       "0  798.68  0.50   6.69  21.42  55.41   7.42  9.00   5.43  92.49  95.45  99.26  \n",
       "1  516.14  0.43   9.40  29.72  51.36   5.94  8.95  11.06  96.84  99.52  97.07  \n",
       "2  680.88  0.54  11.60  32.86  55.57  10.27  8.84   7.84  96.08  94.42  95.64  \n",
       "3  571.74  0.48  11.13  32.21  46.76   6.24  9.21   7.77  85.66  98.20  98.57  \n",
       "4  851.39  0.51   3.69  17.24  58.03  11.25  9.09   4.83  83.53  96.31  98.55  "
      ]
     },
     "execution_count": 14,
     "metadata": {},
     "output_type": "execute_result"
    }
   ],
   "source": [
    "file = 'dados/IDH.xlsx'\n",
    "df = pd.read_excel(file, sheet_name=\"Base\") \n",
    "df.head()"
   ]
  },
  {
   "cell_type": "code",
   "execution_count": 13,
   "metadata": {},
   "outputs": [
    {
     "data": {
      "text/html": [],
      "text/plain": [
       "<IPython.core.display.HTML object>"
      ]
     },
     "metadata": {},
     "output_type": "display_data"
    },
    {
     "data": {
      "application/vnd.jupyter.widget-view+json": {
       "model_id": "f0ce7e91e3954540b63dcc84bec2b8a2",
       "version_major": 2,
       "version_minor": 0
      },
      "text/plain": [
       "Box(children=(HTML(value='<div id=\"ifr-pyg-3\" style=\"height: auto\">\\n    <head>\\n        <meta http-equiv=\"Con…"
      ]
     },
     "metadata": {},
     "output_type": "display_data"
    },
    {
     "data": {
      "text/html": [
       "<html>\n",
       "<style>\n",
       ".tabs{\n",
       "    position:relative;\n",
       "    height:660px;\n",
       "}\n",
       ".tab-pane{\n",
       "    display:inline-block;\n",
       "}\n",
       ".tabs input[type='radio']{\n",
       "    position:absolute;\n",
       "    clip:rect(0,0,0,0)\n",
       "}\n",
       ".tab-item{\n",
       "    display:block;\n",
       "    height:34px;\n",
       "    line-height:34px;\n",
       "    cursor:pointer;\n",
       "    padding:0 10px\n",
       "}\n",
       "\n",
       ".tabs input[type='radio']:checked+.tab-item{\n",
       "    background:#2563eb;\n",
       "    color:#fff\n",
       "}\n",
       "\n",
       ".tab-content{\n",
       "    display: none;\n",
       "    position:absolute;\n",
       "    left:0;\n",
       "    top:56px;\n",
       "    bottom:0;\n",
       "    right:0;\n",
       "}\n",
       "\n",
       ".tabs input[type='radio']:checked+.tab-item+.tab-content{\n",
       "    display: block;\n",
       "}\n",
       "</style>\n",
       "\n",
       "<body>\n",
       "    <div id=\"pygwalker-preview-3\">\n",
       "        <div class=\"tabs\">\n",
       "            \n",
       "        </div>\n",
       "    </div>\n",
       "</body>\n",
       "</html>"
      ],
      "text/plain": [
       "<IPython.core.display.HTML object>"
      ]
     },
     "metadata": {},
     "output_type": "display_data"
    },
    {
     "data": {
      "text/plain": [
       "<pygwalker.api.pygwalker.PygWalker at 0x7fa27100a950>"
      ]
     },
     "execution_count": 13,
     "metadata": {},
     "output_type": "execute_result"
    }
   ],
   "source": [
    "pyg.walk(df, use_preview=True, use_kernel_calc=True)"
   ]
  },
  {
   "cell_type": "code",
   "execution_count": 12,
   "metadata": {},
   "outputs": [
    {
     "name": "stderr",
     "output_type": "stream",
     "text": [
      "2023-08-15 17:59:27.819 \n",
      "  \u001b[33m\u001b[1mWarning:\u001b[0m to view this Streamlit app on a browser, run it with the following\n",
      "  command:\n",
      "\n",
      "    streamlit run /home/fabio/Projetos/Estatistica_python/env/lib/python3.11/site-packages/ipykernel_launcher.py [ARGUMENTS]\n"
     ]
    },
    {
     "data": {
      "text/plain": [
       "DeltaGenerator()"
      ]
     },
     "execution_count": 12,
     "metadata": {},
     "output_type": "execute_result"
    }
   ],
   "source": []
  },
  {
   "cell_type": "code",
   "execution_count": null,
   "metadata": {},
   "outputs": [],
   "source": []
  }
 ],
 "metadata": {
  "kernelspec": {
   "display_name": "env",
   "language": "python",
   "name": "python3"
  },
  "language_info": {
   "codemirror_mode": {
    "name": "ipython",
    "version": 3
   },
   "file_extension": ".py",
   "mimetype": "text/x-python",
   "name": "python",
   "nbconvert_exporter": "python",
   "pygments_lexer": "ipython3",
   "version": "3.11.1"
  },
  "orig_nbformat": 4
 },
 "nbformat": 4,
 "nbformat_minor": 2
}
