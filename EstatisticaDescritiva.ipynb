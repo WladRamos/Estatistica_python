{
 "cells": [
  {
   "cell_type": "markdown",
   "metadata": {},
   "source": [
    "# <font color='#004772'>Estatística <font/>\n",
    "\n",
    "\"É a ciência que coleta, organiza, analisa e interpreta dados para tomada de decisões\" (LARSON; FABER, 2014)\n",
    "\n",
    "\n",
    "Como disciplina a estatística se desenvolveu no século passado. Fundamentado na teoria da probabilidade desenvolvida no século *17* a *19* com base nos trabalhos de  **Thomas Bayes, Pierre-Simon Laplace e Carl Gauss**. A estatística moderna tem suas raízes no final do século 19 com **Francis Galton e Karl Pearson. R. A. Fisher**, no início do século 20, foi um dos pioneiros da estatística moderna, introduzindo idéias-chave de projeto experimental e estimativa de máxima verossimilhança (BRUCE et al. 2020)\n",
    "\n",
    "## Estatística descritiva\n",
    "\n",
    "É o ramo da estatística que envolve a organização, o\n",
    "resumo e a representação dos dados."
   ]
  },
  {
   "cell_type": "markdown",
   "metadata": {},
   "source": [
    "<div id='sumario'><div/>\n",
    "\n",
    "## Sumário\n",
    "1. [**Medidas de tendência central**](#MTC)             \n",
    "    1.1 [Média](#media)  \n",
    "    1.2 [Mediana e quantil](#mediana)  \n",
    "    1.3 [Moda](#moda)\n",
    "2. [**Medidas de dispersão**](#MD)   \n",
    "    2.1 [Amplitude](#a)  \n",
    "    2.2 [Variância](#variancia)    \n",
    "    2.3 [Desvio padrão](#sd)  \n",
    "    2.4 [Erro padrão](#se)  \n",
    "    2.5 [Coeficiente de variação](#cv)  \n",
    "3. [**Visualização**](#visualização)  \n",
    "    3.1 [Gráfico de barras](#barra)  \n",
    "    3.2 [Gráfico de linhas](#linha)         \n",
    "    3.3 [Histograma](#histograma)    \n",
    "    3.4 [Boxplot](#boxplot)     \n",
    "    3.5 [Diagrama de dispersão](#dispersão)\n",
    "    "
   ]
  },
  {
   "cell_type": "markdown",
   "metadata": {},
   "source": [
    "**Importes**"
   ]
  },
  {
   "cell_type": "code",
   "execution_count": 3,
   "metadata": {},
   "outputs": [],
   "source": [
    "from math import sqrt\n",
    "\n",
    "import matplotlib.pyplot as plt\n",
    "import numpy as np\n",
    "import pandas as pd\n",
    "import seaborn as sns\n",
    "from scipy import stats"
   ]
  },
  {
   "cell_type": "markdown",
   "metadata": {},
   "source": [
    "<div id=\"MTC\"></div>   \n",
    "\n",
    "## 1 [Medidas de tendência central](#sumario)\n",
    "    As medidas de tendência central definem valores significativos, representativos e adequados para um conjunto de dados, dependendo do que se deseja analisar. São elas a média, mediana, quantis e a moda.\n",
    "<div id=\"media\"></div>       \n",
    " \n",
    "###    1.1 Média\n",
    "    A média é uma medida de tendência central que indica o valor onde estão concentrados os dados de um conjunto de valores, representando um valor significativo para o mesmo.\n",
    " "
   ]
  },
  {
   "cell_type": "code",
   "execution_count": 1,
   "metadata": {},
   "outputs": [
    {
     "data": {
      "image/gif": "[encoded data removed]",
      "text/plain": [
       "<IPython.core.display.Image object>"
      ]
     },
     "execution_count": 1,
     "metadata": {
      "image/gif": {
       "height": 100,
       "width": 100
      }
     },
     "output_type": "execute_result"
    }
   ],
   "source": [
    "from IPython.display import Image\n",
    "Image(filename='Formulas/media.gif', width=100, height=100)"
   ]
  },
  {
   "cell_type": "code",
   "execution_count": 4,
   "metadata": {},
   "outputs": [
    {
     "data": {
      "text/plain": [
       "3.4"
      ]
     },
     "execution_count": 4,
     "metadata": {},
     "output_type": "execute_result"
    }
   ],
   "source": [
    "# Média em uma lista\n",
    "lista=[2,3,4,3,5]\n",
    "np.mean(lista)\n",
    "# média com valores faltantes\n",
    "np.nanmean([2,3,4,3,np.nan,5])"
   ]
  },
  {
   "cell_type": "code",
   "execution_count": 5,
   "metadata": {},
   "outputs": [
    {
     "data": {
      "text/html": [
       "<div>\n",
       "<style scoped>\n",
       "    .dataframe tbody tr th:only-of-type {\n",
       "        vertical-align: middle;\n",
       "    }\n",
       "\n",
       "    .dataframe tbody tr th {\n",
       "        vertical-align: top;\n",
       "    }\n",
       "\n",
       "    .dataframe thead th {\n",
       "        text-align: right;\n",
       "    }\n",
       "</style>\n",
       "<table border=\"1\" class=\"dataframe\">\n",
       "  <thead>\n",
       "    <tr style=\"text-align: right;\">\n",
       "      <th></th>\n",
       "      <th>A</th>\n",
       "      <th>B</th>\n",
       "    </tr>\n",
       "  </thead>\n",
       "  <tbody>\n",
       "    <tr>\n",
       "      <th>0</th>\n",
       "      <td>2</td>\n",
       "      <td>2.0</td>\n",
       "    </tr>\n",
       "    <tr>\n",
       "      <th>1</th>\n",
       "      <td>3</td>\n",
       "      <td>3.0</td>\n",
       "    </tr>\n",
       "    <tr>\n",
       "      <th>2</th>\n",
       "      <td>4</td>\n",
       "      <td>4.0</td>\n",
       "    </tr>\n",
       "    <tr>\n",
       "      <th>3</th>\n",
       "      <td>3</td>\n",
       "      <td>3.0</td>\n",
       "    </tr>\n",
       "    <tr>\n",
       "      <th>4</th>\n",
       "      <td>5</td>\n",
       "      <td>NaN</td>\n",
       "    </tr>\n",
       "  </tbody>\n",
       "</table>\n",
       "</div>"
      ],
      "text/plain": [
       "   A    B\n",
       "0  2  2.0\n",
       "1  3  3.0\n",
       "2  4  4.0\n",
       "3  3  3.0\n",
       "4  5  NaN"
      ]
     },
     "execution_count": 5,
     "metadata": {},
     "output_type": "execute_result"
    }
   ],
   "source": [
    "# Média em um objeto pandas\n",
    "df=pd.DataFrame({'A':[2,3,4,3,5],'B':[2,3,4,3,np.nan]})\n",
    "df"
   ]
  },
  {
   "cell_type": "code",
   "execution_count": 6,
   "metadata": {},
   "outputs": [
    {
     "name": "stdout",
     "output_type": "stream",
     "text": [
      "media de A: 3.4\n",
      "media de B: 3.0\n"
     ]
    }
   ],
   "source": [
    "print('media de A:',df['A'].mean())\n",
    "print('media de B:',df['B'].mean())"
   ]
  },
  {
   "cell_type": "code",
   "execution_count": 7,
   "metadata": {},
   "outputs": [
    {
     "data": {
      "text/plain": [
       "A    3.4\n",
       "B    3.0\n",
       "dtype: float64"
      ]
     },
     "execution_count": 7,
     "metadata": {},
     "output_type": "execute_result"
    }
   ],
   "source": [
    "# média do dataframe\n",
    "df.mean()\n",
    "# df.apply(np.mean, axis=0)"
   ]
  },
  {
   "cell_type": "code",
   "execution_count": null,
   "metadata": {},
   "outputs": [],
   "source": [
    "#Substituir valor faltante"
   ]
  },
  {
   "cell_type": "code",
   "execution_count": 9,
   "metadata": {},
   "outputs": [
    {
     "data": {
      "text/html": [
       "<div>\n",
       "<style scoped>\n",
       "    .dataframe tbody tr th:only-of-type {\n",
       "        vertical-align: middle;\n",
       "    }\n",
       "\n",
       "    .dataframe tbody tr th {\n",
       "        vertical-align: top;\n",
       "    }\n",
       "\n",
       "    .dataframe thead th {\n",
       "        text-align: right;\n",
       "    }\n",
       "</style>\n",
       "<table border=\"1\" class=\"dataframe\">\n",
       "  <thead>\n",
       "    <tr style=\"text-align: right;\">\n",
       "      <th></th>\n",
       "      <th>A</th>\n",
       "      <th>B</th>\n",
       "    </tr>\n",
       "  </thead>\n",
       "  <tbody>\n",
       "    <tr>\n",
       "      <th>0</th>\n",
       "      <td>2</td>\n",
       "      <td>2.0</td>\n",
       "    </tr>\n",
       "    <tr>\n",
       "      <th>1</th>\n",
       "      <td>3</td>\n",
       "      <td>3.0</td>\n",
       "    </tr>\n",
       "    <tr>\n",
       "      <th>2</th>\n",
       "      <td>4</td>\n",
       "      <td>4.0</td>\n",
       "    </tr>\n",
       "    <tr>\n",
       "      <th>3</th>\n",
       "      <td>3</td>\n",
       "      <td>3.0</td>\n",
       "    </tr>\n",
       "    <tr>\n",
       "      <th>4</th>\n",
       "      <td>5</td>\n",
       "      <td>3.0</td>\n",
       "    </tr>\n",
       "  </tbody>\n",
       "</table>\n",
       "</div>"
      ],
      "text/plain": [
       "   A    B\n",
       "0  2  2.0\n",
       "1  3  3.0\n",
       "2  4  4.0\n",
       "3  3  3.0\n",
       "4  5  3.0"
      ]
     },
     "execution_count": 9,
     "metadata": {},
     "output_type": "execute_result"
    }
   ],
   "source": [
    "df['B']=df['B'].fillna(np.nanmedian(df.B))\n",
    "df"
   ]
  },
  {
   "cell_type": "markdown",
   "metadata": {},
   "source": [
    "<div id=\"mediana\"></div> \n",
    "\n",
    "### 1.2 Mediana e Quantil\n",
    "    A mediana é o valor que separa a metade superior da metade inferior de uma distribuição de dados, ou o valor no centro da distribuição. Na prática, se o número de observações na distribuição é ímpar, ele é o valor central, e se o número de observações é par, ele será a média das duas observações mais centrais. "
   ]
  },
  {
   "cell_type": "code",
   "execution_count": 10,
   "metadata": {},
   "outputs": [
    {
     "data": {
      "image/png": "[encoded data removed]",
      "text/plain": [
       "<IPython.core.display.Image object>"
      ]
     },
     "execution_count": 10,
     "metadata": {
      "image/png": {
       "height": 100,
       "width": 200
      }
     },
     "output_type": "execute_result"
    }
   ],
   "source": [
    "from IPython.display import Image\n",
    "Image(filename='Formulas/mediana.png', width=200, height=100)"
   ]
  },
  {
   "cell_type": "code",
   "execution_count": 17,
   "metadata": {},
   "outputs": [
    {
     "data": {
      "text/plain": [
       "4.0"
      ]
     },
     "execution_count": 17,
     "metadata": {},
     "output_type": "execute_result"
    }
   ],
   "source": [
    "lista=[2,3,4,3,5,5,4,6,8]\n",
    "np.median(lista)"
   ]
  },
  {
   "cell_type": "code",
   "execution_count": 13,
   "metadata": {},
   "outputs": [
    {
     "data": {
      "text/plain": [
       "3.0"
      ]
     },
     "execution_count": 13,
     "metadata": {},
     "output_type": "execute_result"
    }
   ],
   "source": [
    "df['A'].median()"
   ]
  },
  {
   "cell_type": "code",
   "execution_count": 18,
   "metadata": {},
   "outputs": [
    {
     "data": {
      "text/plain": [
       "array([3., 4., 5.])"
      ]
     },
     "execution_count": 18,
     "metadata": {},
     "output_type": "execute_result"
    }
   ],
   "source": [
    "np.quantile(lista, q=[0.25,0.5,0.75])"
   ]
  },
  {
   "cell_type": "markdown",
   "metadata": {},
   "source": [
    "### 1.3 Moda\n",
    "Valor mais frequente"
   ]
  },
  {
   "cell_type": "code",
   "execution_count": 19,
   "metadata": {},
   "outputs": [
    {
     "data": {
      "text/plain": [
       "ModeResult(mode=array([3]), count=array([4]))"
      ]
     },
     "execution_count": 19,
     "metadata": {},
     "output_type": "execute_result"
    }
   ],
   "source": [
    "lista=[2,3,2,3,4,3,5,3,6,8,4,6,6]\n",
    "x=stats.mode(lista)\n",
    "x\n",
    "# df.mode()"
   ]
  },
  {
   "cell_type": "markdown",
   "metadata": {},
   "source": [
    "<div id=\"MD\"></div>   \n",
    "\n",
    "## 2 [Medidas de dispersão](#suamrio)"
   ]
  },
  {
   "cell_type": "markdown",
   "metadata": {},
   "source": [
    "<div id=\"a\">   \n",
    "\n",
    "### 2.1 Amplitude"
   ]
  },
  {
   "cell_type": "code",
   "execution_count": 20,
   "metadata": {},
   "outputs": [
    {
     "name": "stdout",
     "output_type": "stream",
     "text": [
      "A amplitude: 7\n"
     ]
    }
   ],
   "source": [
    "np.random.seed(111)\n",
    "\n",
    "lista=np.random.randint(2,10,15)\n",
    "lista\n",
    "minimo=np.min(lista)\n",
    "maximo=np.max(lista)\n",
    "\n",
    "print('A amplitude:',maximo-minimo)"
   ]
  },
  {
   "cell_type": "markdown",
   "metadata": {},
   "source": [
    "<div id='variancia'>\n",
    "\n",
    "### 2.2 Variância"
   ]
  },
  {
   "cell_type": "code",
   "execution_count": 21,
   "metadata": {},
   "outputs": [
    {
     "data": {
      "image/jpeg": "[encoded data removed]",
      "text/plain": [
       "<IPython.core.display.Image object>"
      ]
     },
     "execution_count": 21,
     "metadata": {
      "image/jpeg": {
       "height": 100,
       "width": 150
      }
     },
     "output_type": "execute_result"
    }
   ],
   "source": [
    "from IPython.display import Image\n",
    "Image(filename='Formulas/variancia.jpg', width=150 , height=100)"
   ]
  },
  {
   "cell_type": "code",
   "execution_count": 22,
   "metadata": {},
   "outputs": [
    {
     "name": "stdout",
     "output_type": "stream",
     "text": [
      "lista A: [9 9 9 9 8 6 7 7 5 6]\n",
      "Variância populacional 2.05\n",
      "Variância amostral 2.2777777777777777\n"
     ]
    }
   ],
   "source": [
    "np.random.seed(111)\n",
    "A=np.random.randint(5,10,10)\n",
    "print('lista A:',A)\n",
    "print('Variância populacional',np.var(A))\n",
    "print('Variância amostral',np.var(A,ddof=1))"
   ]
  },
  {
   "cell_type": "code",
   "execution_count": 26,
   "metadata": {},
   "outputs": [
    {
     "data": {
      "text/plain": [
       "2.2777777777777777"
      ]
     },
     "execution_count": 26,
     "metadata": {},
     "output_type": "execute_result"
    }
   ],
   "source": [
    "def var(x):\n",
    "    v=np.sum((x-np.mean(x))**2)/(np.size(x)-1)\n",
    "    return v\n",
    "var(A)"
   ]
  },
  {
   "cell_type": "markdown",
   "metadata": {},
   "source": [
    "<div id=\"sd\">   \n",
    "\n",
    "### 2.3 Desvio padrão"
   ]
  },
  {
   "cell_type": "code",
   "execution_count": 27,
   "metadata": {},
   "outputs": [
    {
     "data": {
      "image/png": "[encoded data removed]",
      "text/plain": [
       "<IPython.core.display.Image object>"
      ]
     },
     "execution_count": 27,
     "metadata": {
      "image/png": {
       "height": 100,
       "width": 150
      }
     },
     "output_type": "execute_result"
    }
   ],
   "source": [
    "from IPython.display import Image\n",
    "Image(filename='Formulas/desvio_padrao.png', width=150 , height=100)"
   ]
  },
  {
   "cell_type": "code",
   "execution_count": 28,
   "metadata": {},
   "outputs": [
    {
     "name": "stdout",
     "output_type": "stream",
     "text": [
      "Desvio padrão = 1.02\n",
      "Desvio padrão NaN = 1.02\n"
     ]
    }
   ],
   "source": [
    "# Desvio padrão em uma lista \n",
    "lista=[2,3,4,3,5]\n",
    "std=np.std(lista)\n",
    "std_nan=np.nanstd([2,3,4,3,np.nan,5])\n",
    "\n",
    "print('Desvio padrão = {}\\nDesvio padrão NaN = {}'. format(round(std,2),round(std_nan,2)))"
   ]
  },
  {
   "cell_type": "code",
   "execution_count": 30,
   "metadata": {},
   "outputs": [
    {
     "name": "stdout",
     "output_type": "stream",
     "text": [
      "Desvio padrão amostral: 1.140175425099138\n",
      "Desvio padrão populacional: 1.019803902718557\n"
     ]
    }
   ],
   "source": [
    "# Desvio padrão amostral\n",
    "std_amostral=df['A'].std()\n",
    "# Desvio padrão populacional\n",
    "std_populacional=df['A'].std(ddof=0)\n",
    "\n",
    "print('Desvio padrão amostral: {}\\nDesvio padrão populacional: {}'.format(std_amostral,std_populacional))"
   ]
  },
  {
   "cell_type": "code",
   "execution_count": 31,
   "metadata": {},
   "outputs": [
    {
     "data": {
      "text/plain": [
       "A    1.140175\n",
       "B    0.707107\n",
       "dtype: float64"
      ]
     },
     "execution_count": 31,
     "metadata": {},
     "output_type": "execute_result"
    }
   ],
   "source": [
    "# std do dataframe\n",
    "df.std()\n",
    "# df.apply(np.std, axis=0)"
   ]
  },
  {
   "cell_type": "code",
   "execution_count": 33,
   "metadata": {},
   "outputs": [
    {
     "name": "stdout",
     "output_type": "stream",
     "text": [
      "3.4 ± 1.140175425099138\n"
     ]
    }
   ],
   "source": [
    "df['A'].mean()\n",
    "print(df['A'].mean(),\"\\u00B1\",df['A'].std())"
   ]
  },
  {
   "cell_type": "markdown",
   "metadata": {},
   "source": [
    "<div id=\"se\"></div>   \n",
    "\n",
    "### 2.3 Erro Padrão"
   ]
  },
  {
   "cell_type": "code",
   "execution_count": 34,
   "metadata": {},
   "outputs": [
    {
     "data": {
      "image/png": "[encoded data removed]",
      "text/plain": [
       "<IPython.core.display.Image object>"
      ]
     },
     "execution_count": 34,
     "metadata": {
      "image/png": {
       "height": 100,
       "width": 100
      }
     },
     "output_type": "execute_result"
    }
   ],
   "source": [
    "from IPython.display import Image\n",
    "Image(filename='Formulas/erro_padrao.png', width=100 , height=100)"
   ]
  },
  {
   "cell_type": "code",
   "execution_count": 35,
   "metadata": {},
   "outputs": [],
   "source": [
    "def se(x):\n",
    "    e=np.std(x,ddof=1)/sqrt(np.size(x))\n",
    "    return e"
   ]
  },
  {
   "cell_type": "code",
   "execution_count": 36,
   "metadata": {},
   "outputs": [
    {
     "data": {
      "text/plain": [
       "0.5099019513592785"
      ]
     },
     "execution_count": 36,
     "metadata": {},
     "output_type": "execute_result"
    }
   ],
   "source": [
    "se(lista)"
   ]
  },
  {
   "cell_type": "code",
   "execution_count": 37,
   "metadata": {},
   "outputs": [
    {
     "data": {
      "text/plain": [
       "A    0.509902\n",
       "B    0.316228\n",
       "dtype: float64"
      ]
     },
     "execution_count": 37,
     "metadata": {},
     "output_type": "execute_result"
    }
   ],
   "source": [
    "df.apply(se, axis=0)"
   ]
  },
  {
   "cell_type": "markdown",
   "metadata": {},
   "source": [
    "<div id=\"cv\"></div>   \n",
    "\n",
    "### 2.4 Coeficiente de variação"
   ]
  },
  {
   "cell_type": "code",
   "execution_count": 38,
   "metadata": {},
   "outputs": [
    {
     "data": {
      "image/jpeg": "[encoded data removed]",
      "text/plain": [
       "<IPython.core.display.Image object>"
      ]
     },
     "execution_count": 38,
     "metadata": {
      "image/jpeg": {
       "height": 100,
       "width": 150
      }
     },
     "output_type": "execute_result"
    }
   ],
   "source": [
    "from IPython.display import Image\n",
    "Image(filename='Formulas/cv.JPG', width=150 , height=100)"
   ]
  },
  {
   "cell_type": "code",
   "execution_count": 39,
   "metadata": {},
   "outputs": [
    {
     "data": {
      "text/plain": [
       "33.53457132644524"
      ]
     },
     "execution_count": 39,
     "metadata": {},
     "output_type": "execute_result"
    }
   ],
   "source": [
    "# Função anônima\n",
    "cv=lambda x: np.std(x, ddof=1)/np.mean(x)*100\n",
    "cv(lista)"
   ]
  },
  {
   "cell_type": "code",
   "execution_count": 40,
   "metadata": {},
   "outputs": [
    {
     "data": {
      "text/plain": [
       "A    33.534571\n",
       "B    23.570226\n",
       "dtype: float64"
      ]
     },
     "execution_count": 40,
     "metadata": {},
     "output_type": "execute_result"
    }
   ],
   "source": [
    "df.apply(cv, axis=0)"
   ]
  },
  {
   "cell_type": "code",
   "execution_count": 41,
   "metadata": {},
   "outputs": [
    {
     "name": "stdout",
     "output_type": "stream",
     "text": [
      "Quem varia mais?\n",
      "Desvio padrão l1:1.96 \n",
      "Desvio padrão l2:2.98\n"
     ]
    }
   ],
   "source": [
    "np.random.seed(111)\n",
    "\n",
    "l1=np.random.randint(1,10,10)\n",
    "l2=np.random.randint(100,110,10)\n",
    "std1, std2 = np.std(l1), np.std(l2)\n",
    "print('Quem varia mais?')\n",
    "print('Desvio padrão l1:{:.2f} \\nDesvio padrão l2:{:.2f}'.format(std1,std2))"
   ]
  },
  {
   "cell_type": "code",
   "execution_count": 42,
   "metadata": {},
   "outputs": [
    {
     "name": "stdout",
     "output_type": "stream",
     "text": [
      "Desvio padrão l1:1.96 36.89% \n",
      "Desvio padrão l2:2.98 2.99%\n"
     ]
    }
   ],
   "source": [
    "print('Desvio padrão l1:{:.2f} {:.2f}% \\nDesvio padrão l2:{:.2f} {:.2f}%'.format(round(std1,2), cv(l1),round(std2,2), cv(l2)))"
   ]
  },
  {
   "cell_type": "code",
   "execution_count": 45,
   "metadata": {},
   "outputs": [
    {
     "name": "stdout",
     "output_type": "stream",
     "text": [
      "l1: 5.6\n",
      "l2: 105.1\n"
     ]
    }
   ],
   "source": [
    "print('l1:',np.mean(l1))\n",
    "print('l2:',np.mean(l2))"
   ]
  },
  {
   "cell_type": "markdown",
   "metadata": {},
   "source": [
    "Escala de comparação (BINDU et al., 2019 pag. 23)\n",
    "\n",
    "**Definition 1**:A data (population) will be called as consistent iff 0<CV<33 for that data (population)    \n",
    "**Definition 2**:A data (population) will be called as highly consistent(HC) iff 0<CV≤5 for that data (population)    \n",
    "**Definition 3**:A data (population) will be called as moderately consistent (MC) iff 5<CV≤15 for that data(population)  \n",
    "**Definition 4**:A data (population) will be called as weak consistent(WC) iff 15<CV≤33 for that data (population)  \n",
    "**Definition 5**:A data (population) will be called as weak inconsistent (WI) iff 33<CV≤66 for that data (population)  \n",
    "**Definition 6**:A data (population) will be called as moderately inconsistent (MI) iff 66<CV≤100 for that data (population)  \n",
    "**Definition 7**:A data (population) will be called as highly inconsistent (HI) iff 100<CV for that data (population)"
   ]
  },
  {
   "cell_type": "markdown",
   "metadata": {},
   "source": [
    "## Exercício "
   ]
  },
  {
   "cell_type": "markdown",
   "metadata": {},
   "source": [
    "As idades dos funcionários em um departamento estão listadas a seguir:  \n",
    "`[34,27,50,45,41,37,24,57,40,38,62,44,39,40,36,32,25,22,42,31,55,46]`  \n",
    "Calcule a média, desvio padrão amostral, erro padrão, mediana, e os quantis(0.25,0.5,0.75).  \n",
    "Represente os devidos resultados da seguinte maneira \"medida de tendência central $\\pm$ medida de disperção\"  \n",
    "\n",
    "\n",
    "\n",
    "\n",
    "\n"
   ]
  },
  {
   "cell_type": "code",
   "execution_count": null,
   "metadata": {},
   "outputs": [],
   "source": [
    "print(\"\\u00B1\")"
   ]
  },
  {
   "cell_type": "code",
   "execution_count": 46,
   "metadata": {},
   "outputs": [
    {
     "name": "stdout",
     "output_type": "stream",
     "text": [
      "(92, 18)\n"
     ]
    },
    {
     "data": {
      "text/html": [
       "<div>\n",
       "<style scoped>\n",
       "    .dataframe tbody tr th:only-of-type {\n",
       "        vertical-align: middle;\n",
       "    }\n",
       "\n",
       "    .dataframe tbody tr th {\n",
       "        vertical-align: top;\n",
       "    }\n",
       "\n",
       "    .dataframe thead th {\n",
       "        text-align: right;\n",
       "    }\n",
       "</style>\n",
       "<table border=\"1\" class=\"dataframe\">\n",
       "  <thead>\n",
       "    <tr style=\"text-align: right;\">\n",
       "      <th></th>\n",
       "      <th>Espacialidades</th>\n",
       "      <th>ND</th>\n",
       "      <th>EV</th>\n",
       "      <th>Mi</th>\n",
       "      <th>PS60</th>\n",
       "      <th>QL</th>\n",
       "      <th>PIB</th>\n",
       "      <th>RP</th>\n",
       "      <th>Gi</th>\n",
       "      <th>P</th>\n",
       "      <th>VP</th>\n",
       "      <th>FC18</th>\n",
       "      <th>SC25</th>\n",
       "      <th>EAE</th>\n",
       "      <th>T18</th>\n",
       "      <th>PDA</th>\n",
       "      <th>PDBA</th>\n",
       "      <th>PDCL</th>\n",
       "    </tr>\n",
       "  </thead>\n",
       "  <tbody>\n",
       "    <tr>\n",
       "      <th>0</th>\n",
       "      <td>Angra dos Reis</td>\n",
       "      <td>Outros</td>\n",
       "      <td>75.75</td>\n",
       "      <td>12.97</td>\n",
       "      <td>83.19</td>\n",
       "      <td>1.426171</td>\n",
       "      <td>4.540722e+06</td>\n",
       "      <td>798.68</td>\n",
       "      <td>0.50</td>\n",
       "      <td>6.69</td>\n",
       "      <td>21.42</td>\n",
       "      <td>55.41</td>\n",
       "      <td>7.42</td>\n",
       "      <td>9.00</td>\n",
       "      <td>5.43</td>\n",
       "      <td>92.49</td>\n",
       "      <td>95.45</td>\n",
       "      <td>99.26</td>\n",
       "    </tr>\n",
       "    <tr>\n",
       "      <th>1</th>\n",
       "      <td>Aperibé</td>\n",
       "      <td>C.Vicioso</td>\n",
       "      <td>72.10</td>\n",
       "      <td>18.40</td>\n",
       "      <td>77.85</td>\n",
       "      <td>1.113099</td>\n",
       "      <td>4.077564e+04</td>\n",
       "      <td>516.14</td>\n",
       "      <td>0.43</td>\n",
       "      <td>9.40</td>\n",
       "      <td>29.72</td>\n",
       "      <td>51.36</td>\n",
       "      <td>5.94</td>\n",
       "      <td>8.95</td>\n",
       "      <td>11.06</td>\n",
       "      <td>96.84</td>\n",
       "      <td>99.52</td>\n",
       "      <td>97.07</td>\n",
       "    </tr>\n",
       "    <tr>\n",
       "      <th>2</th>\n",
       "      <td>Araruama</td>\n",
       "      <td>Outros</td>\n",
       "      <td>75.32</td>\n",
       "      <td>14.18</td>\n",
       "      <td>82.88</td>\n",
       "      <td>0.409663</td>\n",
       "      <td>5.643963e+05</td>\n",
       "      <td>680.88</td>\n",
       "      <td>0.54</td>\n",
       "      <td>11.60</td>\n",
       "      <td>32.86</td>\n",
       "      <td>55.57</td>\n",
       "      <td>10.27</td>\n",
       "      <td>8.84</td>\n",
       "      <td>7.84</td>\n",
       "      <td>96.08</td>\n",
       "      <td>94.42</td>\n",
       "      <td>95.64</td>\n",
       "    </tr>\n",
       "    <tr>\n",
       "      <th>3</th>\n",
       "      <td>Areal</td>\n",
       "      <td>C.Vicioso</td>\n",
       "      <td>74.35</td>\n",
       "      <td>15.00</td>\n",
       "      <td>81.22</td>\n",
       "      <td>0.326421</td>\n",
       "      <td>8.742154e+04</td>\n",
       "      <td>571.74</td>\n",
       "      <td>0.48</td>\n",
       "      <td>11.13</td>\n",
       "      <td>32.21</td>\n",
       "      <td>46.76</td>\n",
       "      <td>6.24</td>\n",
       "      <td>9.21</td>\n",
       "      <td>7.77</td>\n",
       "      <td>85.66</td>\n",
       "      <td>98.20</td>\n",
       "      <td>98.57</td>\n",
       "    </tr>\n",
       "    <tr>\n",
       "      <th>4</th>\n",
       "      <td>Armação dos Búzios</td>\n",
       "      <td>C.Vicioso</td>\n",
       "      <td>74.44</td>\n",
       "      <td>14.80</td>\n",
       "      <td>81.36</td>\n",
       "      <td>0.054656</td>\n",
       "      <td>5.751335e+05</td>\n",
       "      <td>851.39</td>\n",
       "      <td>0.51</td>\n",
       "      <td>3.69</td>\n",
       "      <td>17.24</td>\n",
       "      <td>58.03</td>\n",
       "      <td>11.25</td>\n",
       "      <td>9.09</td>\n",
       "      <td>4.83</td>\n",
       "      <td>83.53</td>\n",
       "      <td>96.31</td>\n",
       "      <td>98.55</td>\n",
       "    </tr>\n",
       "  </tbody>\n",
       "</table>\n",
       "</div>"
      ],
      "text/plain": [
       "       Espacialidades         ND     EV     Mi   PS60        QL           PIB  \\\n",
       "0      Angra dos Reis     Outros  75.75  12.97  83.19  1.426171  4.540722e+06   \n",
       "1             Aperibé  C.Vicioso  72.10  18.40  77.85  1.113099  4.077564e+04   \n",
       "2            Araruama     Outros  75.32  14.18  82.88  0.409663  5.643963e+05   \n",
       "3               Areal  C.Vicioso  74.35  15.00  81.22  0.326421  8.742154e+04   \n",
       "4  Armação dos Búzios  C.Vicioso  74.44  14.80  81.36  0.054656  5.751335e+05   \n",
       "\n",
       "       RP    Gi      P     VP   FC18   SC25   EAE    T18    PDA   PDBA   PDCL  \n",
       "0  798.68  0.50   6.69  21.42  55.41   7.42  9.00   5.43  92.49  95.45  99.26  \n",
       "1  516.14  0.43   9.40  29.72  51.36   5.94  8.95  11.06  96.84  99.52  97.07  \n",
       "2  680.88  0.54  11.60  32.86  55.57  10.27  8.84   7.84  96.08  94.42  95.64  \n",
       "3  571.74  0.48  11.13  32.21  46.76   6.24  9.21   7.77  85.66  98.20  98.57  \n",
       "4  851.39  0.51   3.69  17.24  58.03  11.25  9.09   4.83  83.53  96.31  98.55  "
      ]
     },
     "execution_count": 46,
     "metadata": {},
     "output_type": "execute_result"
    }
   ],
   "source": [
    "#Importando Excel\n",
    "file='dados/IDH.xlsx'\n",
    "df_idh=pd.read_excel(file, sheet_name=\"Base\")\n",
    "\n",
    "print(df_idh.shape)\n",
    "df_idh.head()"
   ]
  },
  {
   "cell_type": "markdown",
   "metadata": {},
   "source": [
    "<div id=\"visualização\"></div>   \n",
    "\n",
    "# [<font color='#004772'>3 Visualização  de gráficos estatísticos com seaborns](#sumario) <font/>\n",
    "\n",
    "Na estatística é comun visualizar os dados graficamente"
   ]
  },
  {
   "cell_type": "code",
   "execution_count": null,
   "metadata": {},
   "outputs": [],
   "source": [
    "# Carregando um dos datasets que vem com o Seaborn\n",
    "df_tips = sns.load_dataset(\"tips\")\n",
    "df_tips.head()"
   ]
  },
  {
   "cell_type": "code",
   "execution_count": null,
   "metadata": {},
   "outputs": [],
   "source": [
    "from IPython.display import Image\n",
    "Image(filename='Formulas/tipo_dados.jpg', width=800 , height=720)"
   ]
  },
  {
   "cell_type": "code",
   "execution_count": null,
   "metadata": {},
   "outputs": [],
   "source": [
    "print(df_tips.dtypes)\n",
    "df_tips.head()"
   ]
  },
  {
   "cell_type": "markdown",
   "metadata": {},
   "source": [
    "<div id='barra'><div/>\n",
    "\n",
    "## 3.1 Grafico de barras"
   ]
  },
  {
   "cell_type": "code",
   "execution_count": null,
   "metadata": {},
   "outputs": [],
   "source": [
    "#Temas\n",
    "print(plt.style.available)"
   ]
  },
  {
   "cell_type": "markdown",
   "metadata": {},
   "source": [
    "Paleta de cores\n",
    "https://matplotlib.org/3.1.1/gallery/color/colormap_reference.html"
   ]
  },
  {
   "cell_type": "code",
   "execution_count": null,
   "metadata": {},
   "outputs": [],
   "source": [
    "plt.style.use('seaborn')\n",
    "\n",
    "plt.figure(figsize=(8,4))\n",
    "# fig=sns.barplot(x='day',y='total_bill', data=df_tips, ci='sd')\n",
    "fig=sns.barplot(x='day',y='total_bill', data=df_tips, ci='sd', errwidth=1.2, edgecolor=\"black\", capsize=0.1)"
   ]
  },
  {
   "cell_type": "code",
   "execution_count": null,
   "metadata": {},
   "outputs": [],
   "source": [
    "plt.figure(figsize=(8,4))\n",
    "\n",
    "fig=sns.barplot(x='day',y='total_bill', hue='time' ,data=df_tips, ci=95,errwidth=1.2)"
   ]
  },
  {
   "cell_type": "code",
   "execution_count": null,
   "metadata": {},
   "outputs": [],
   "source": [
    "sns.barplot(x='day',y='total_bill', data=df_tips, hue='sex', errwidth=1.2, edgecolor=\"black\", capsize=0.1)"
   ]
  },
  {
   "cell_type": "code",
   "execution_count": null,
   "metadata": {},
   "outputs": [],
   "source": [
    "df_count=df_tips['sex'].value_counts()\n",
    "df_count"
   ]
  },
  {
   "cell_type": "code",
   "execution_count": null,
   "metadata": {},
   "outputs": [],
   "source": [
    "sns.barplot(x=df_count.index,y=df_count)\n",
    "# sns.countplot(x='sex', data=df_tips)"
   ]
  },
  {
   "cell_type": "markdown",
   "metadata": {},
   "source": [
    "[catplot()](https://seaborn.pydata.org/tutorial/categorical.html)"
   ]
  },
  {
   "cell_type": "code",
   "execution_count": null,
   "metadata": {},
   "outputs": [],
   "source": [
    "sns.catplot(x=\"sex\", kind=\"count\", data=df_tips)"
   ]
  },
  {
   "cell_type": "code",
   "execution_count": null,
   "metadata": {},
   "outputs": [],
   "source": [
    "sns.catplot(x=\"sex\", kind=\"count\", hue='time' , palette='Set1' ,data=df_tips)"
   ]
  },
  {
   "cell_type": "code",
   "execution_count": null,
   "metadata": {},
   "outputs": [],
   "source": [
    "sns.catplot(x=\"sex\", kind=\"count\", hue='time', col='day', col_wrap=2, palette='Set1' ,data=df_tips)"
   ]
  },
  {
   "cell_type": "code",
   "execution_count": null,
   "metadata": {},
   "outputs": [],
   "source": [
    "sns.catplot(x=\"day\", y='total_bill', kind=\"bar\", hue='smoker',col='sex', col_wrap=2, palette='Set1', data=df_tips, errwidth=1.2, edgecolor=\"black\", capsize=0.1) "
   ]
  },
  {
   "cell_type": "code",
   "execution_count": null,
   "metadata": {},
   "outputs": [],
   "source": [
    "g=sns.catplot(x=\"day\", y='total_bill', kind=\"bar\", col='sex', row='smoker', data=df_tips, palette='winter', errwidth=1.2, edgecolor=\"black\", capsize=0.1) \n",
    "g.set_axis_labels(x='dia', y='conta')"
   ]
  },
  {
   "cell_type": "markdown",
   "metadata": {},
   "source": [
    "<div id='linha'><div>\n",
    "\n",
    "## 3.2 Grafico de Linhas"
   ]
  },
  {
   "cell_type": "markdown",
   "metadata": {},
   "source": [
    "[lineplot()](https://seaborn.pydata.org/generated/seaborn.lineplot.html)"
   ]
  },
  {
   "cell_type": "code",
   "execution_count": null,
   "metadata": {},
   "outputs": [],
   "source": [
    "df_flights = sns.load_dataset(\"flights\")\n",
    "df_flights.head()"
   ]
  },
  {
   "cell_type": "code",
   "execution_count": null,
   "metadata": {},
   "outputs": [],
   "source": [
    "df_flights_may = df_flights.query(\"month == 'May'\")\n",
    "g=sns.lineplot(data=df_flights_may, x=\"year\", y=\"passengers\")"
   ]
  },
  {
   "cell_type": "code",
   "execution_count": null,
   "metadata": {},
   "outputs": [],
   "source": [
    "sns.lineplot(data=df_flights, x=\"year\", y=\"passengers\")"
   ]
  },
  {
   "cell_type": "code",
   "execution_count": null,
   "metadata": {},
   "outputs": [],
   "source": [
    "sns.lineplot(data=df_flights, x=\"year\", y=\"passengers\", hue=\"month\")"
   ]
  },
  {
   "cell_type": "code",
   "execution_count": null,
   "metadata": {},
   "outputs": [],
   "source": [
    "sns.lineplot(data=df_flights, x=\"year\", y=\"passengers\", hue=\"month\", style=\"month\")"
   ]
  },
  {
   "cell_type": "markdown",
   "metadata": {},
   "source": [
    "[relplot()](https://seaborn.pydata.org/generated/seaborn.relplot.html#seaborn.relplot)"
   ]
  },
  {
   "cell_type": "code",
   "execution_count": null,
   "metadata": {},
   "outputs": [],
   "source": [
    "sns.relplot(x='year',y='passengers', kind='line' ,data=df_flights)"
   ]
  },
  {
   "cell_type": "code",
   "execution_count": null,
   "metadata": {},
   "outputs": [],
   "source": [
    "sns.relplot(x='year',y='passengers', kind='line', col='month', col_wrap=3 ,data=df_flights)"
   ]
  },
  {
   "cell_type": "markdown",
   "metadata": {},
   "source": [
    "<div id='histograma'><div/>\n",
    "\n",
    "## 3.3 Histograma\n"
   ]
  },
  {
   "cell_type": "code",
   "execution_count": null,
   "metadata": {},
   "outputs": [],
   "source": [
    "# Carregando um dos datasets que vem com o Seaborn\n",
    "df_tips = sns.load_dataset(\"tips\")\n",
    "df_tips.head()"
   ]
  },
  {
   "cell_type": "markdown",
   "metadata": {},
   "source": [
    "[histplot()](https://seaborn.pydata.org/generated/seaborn.histplot.html)"
   ]
  },
  {
   "cell_type": "code",
   "execution_count": null,
   "metadata": {},
   "outputs": [],
   "source": [
    "g=sns.histplot(x='total_bill',data=df_tips)\n",
    "# g.figure.savefig('hist.png', dpi=300)"
   ]
  },
  {
   "cell_type": "code",
   "execution_count": null,
   "metadata": {},
   "outputs": [],
   "source": []
  },
  {
   "cell_type": "markdown",
   "metadata": {},
   "source": [
    "### 3.3.1 Distribuição de frequência\n",
    "\n",
    "Mostra o número de observações que estão em um intervalo específico "
   ]
  },
  {
   "cell_type": "code",
   "execution_count": null,
   "metadata": {},
   "outputs": [],
   "source": [
    "from IPython.display import Image\n",
    "Image(filename='Formulas/distribuicao_freq.jpg', width=720 , height=720)"
   ]
  },
  {
   "cell_type": "code",
   "execution_count": null,
   "metadata": {},
   "outputs": [],
   "source": [
    "np.random.seed(3)\n",
    "lista=np.random.randint(3,10,15)\n",
    "lista"
   ]
  },
  {
   "cell_type": "code",
   "execution_count": null,
   "metadata": {},
   "outputs": [],
   "source": [
    "# pd series \n",
    "df_freq=pd.Series(lista).value_counts().reset_index().sort_values('index').reset_index(drop=True)\n",
    "df_freq.columns=['classe','Freq.']\n",
    "df_freq"
   ]
  },
  {
   "cell_type": "code",
   "execution_count": null,
   "metadata": {},
   "outputs": [],
   "source": [
    "# pd series, alterar número de classes\n",
    "df_freq=pd.Series(lista).value_counts(bins=3).reset_index().sort_values('index').reset_index(drop=True)\n",
    "df_freq.columns=['classe','Freq.']\n",
    "df_freq"
   ]
  },
  {
   "cell_type": "code",
   "execution_count": null,
   "metadata": {},
   "outputs": [],
   "source": [
    "# pd.cut() Use cut when you need to segment and sort data values into bins\n",
    "df_freq=pd.DataFrame(dict(valor=lista))\n",
    "df_freq['classe']=pd.cut(lista, bins=4)\n",
    "df_freq.groupby('classe').size().to_frame(name='valor').reset_index()"
   ]
  },
  {
   "cell_type": "code",
   "execution_count": null,
   "metadata": {},
   "outputs": [],
   "source": [
    "# pd.cut() Use cut when you need to segment and sort data values into bins\n",
    "df_freq=pd.DataFrame(dict(valor=lista))\n",
    "df_freq['classe']=pd.cut(lista, bins=3,labels=['baixo','regular','alto'])\n",
    "df_freq=df_freq.groupby('classe').size().to_frame(name='Freq.').reset_index()\n",
    "df_freq['freq_rela']=(df_freq['Freq.']/df_freq['Freq.'].sum())*100\n",
    "df_freq.round(2)"
   ]
  },
  {
   "cell_type": "code",
   "execution_count": null,
   "metadata": {},
   "outputs": [],
   "source": [
    "# número de barras\n",
    "g=sns.histplot(x='total_bill',bins=30, data=df_tips)"
   ]
  },
  {
   "cell_type": "markdown",
   "metadata": {},
   "source": [
    "[Número de classes ideal](https://numpy.org/doc/stable/reference/generated/numpy.histogram_bin_edges.html#numpy.histogram_bin_edges)"
   ]
  },
  {
   "cell_type": "code",
   "execution_count": null,
   "metadata": {},
   "outputs": [],
   "source": [
    "# número de barras por estimador\n",
    "g=sns.histplot(x='total_bill',bins='auto', data=df_tips)"
   ]
  },
  {
   "cell_type": "code",
   "execution_count": null,
   "metadata": {},
   "outputs": [],
   "source": [
    "# largura - binwidth\n",
    "g=sns.histplot(x='total_bill',binwidth=3, data=df_tips)"
   ]
  },
  {
   "cell_type": "code",
   "execution_count": null,
   "metadata": {},
   "outputs": [],
   "source": [
    "# kernel density estimate \n",
    "g=sns.histplot(x='total_bill',kde=True , data=df_tips)"
   ]
  },
  {
   "cell_type": "code",
   "execution_count": null,
   "metadata": {},
   "outputs": [],
   "source": [
    "# relativo\n",
    "g=sns.histplot(x='total_bill',stat=\"probability\",  data=df_tips)"
   ]
  },
  {
   "cell_type": "code",
   "execution_count": null,
   "metadata": {},
   "outputs": [],
   "source": [
    "# desenha multiplos histogramas\n",
    "g=sns.histplot(x='total_bill',hue='sex', data=df_tips)"
   ]
  },
  {
   "cell_type": "markdown",
   "metadata": {},
   "source": [
    "[displot()](https://seaborn.pydata.org/generated/seaborn.displot.html#seaborn.displot)"
   ]
  },
  {
   "cell_type": "code",
   "execution_count": null,
   "metadata": {},
   "outputs": [],
   "source": [
    "g=sns.displot(x='total_bill', data=df_tips)"
   ]
  },
  {
   "cell_type": "code",
   "execution_count": null,
   "metadata": {},
   "outputs": [],
   "source": [
    "g=sns.displot(x='total_bill', hue='smoker', col='sex' ,data=df_tips)"
   ]
  },
  {
   "cell_type": "code",
   "execution_count": null,
   "metadata": {},
   "outputs": [],
   "source": [
    "g=sns.displot(x='total_bill', hue='smoker', col='sex' ,data=df_tips, fill=False)"
   ]
  },
  {
   "cell_type": "code",
   "execution_count": null,
   "metadata": {},
   "outputs": [],
   "source": [
    "g=sns.displot(x='total_bill', hue='day', col='sex', kind='kde' ,data=df_tips)"
   ]
  },
  {
   "cell_type": "markdown",
   "metadata": {},
   "source": [
    "<div id='boxplot'><div/>\n",
    "\n",
    "## 3.2 Boxplot"
   ]
  },
  {
   "cell_type": "code",
   "execution_count": null,
   "metadata": {},
   "outputs": [],
   "source": [
    "from IPython.display import Image\n",
    "Image(filename='Formulas/boxplot.png', width=720 , height=720)"
   ]
  },
  {
   "cell_type": "code",
   "execution_count": null,
   "metadata": {},
   "outputs": [],
   "source": [
    "# Carregando um dos datasets que vem com o Seaborn\n",
    "df_tips = sns.load_dataset(\"tips\")"
   ]
  },
  {
   "cell_type": "code",
   "execution_count": null,
   "metadata": {},
   "outputs": [],
   "source": [
    "g=sns.boxplot(x='total_bill', data=df_tips)"
   ]
  },
  {
   "cell_type": "code",
   "execution_count": null,
   "metadata": {},
   "outputs": [],
   "source": [
    "g=sns.boxplot(x='sex',y='total_bill', data=df_tips)"
   ]
  },
  {
   "cell_type": "code",
   "execution_count": null,
   "metadata": {},
   "outputs": [],
   "source": [
    "def norm(x):\n",
    "    z=(x-np.mean(x))/np.std(x,ddof=1)\n",
    "    return z\n",
    "df_tips['total_bill_z']=norm(df_tips['total_bill'])"
   ]
  },
  {
   "cell_type": "code",
   "execution_count": null,
   "metadata": {},
   "outputs": [],
   "source": [
    "fig, ax = plt.subplots(1,2, figsize=(12,5))\n",
    "sns.boxplot(x='sex',y='total_bill', data=df_tips, ax=ax[0])\n",
    "sns.boxplot(x='sex',y='total_bill_z', data=df_tips, ax=ax[1])\n",
    "ax[0].set_title('Não padronizado')\n",
    "ax[1].set_title('Padronizado Z-Score')"
   ]
  },
  {
   "cell_type": "code",
   "execution_count": null,
   "metadata": {},
   "outputs": [],
   "source": [
    "g=sns.boxplot(x='sex',y='total_bill_z', hue='smoker', data=df_tips)"
   ]
  },
  {
   "cell_type": "code",
   "execution_count": null,
   "metadata": {},
   "outputs": [],
   "source": [
    "ax=sns.boxplot(x=\"day\", y=\"total_bill\", data=df_tips, fliersize=0)\n",
    "ax=sns.swarmplot(x=\"day\", y=\"total_bill\", data=df_tips, color=\".25\", alpha=0.6)"
   ]
  },
  {
   "cell_type": "markdown",
   "metadata": {},
   "source": [
    "[catplo()](https://seaborn.pydata.org/generated/seaborn.catplot.html#seaborn.catplot)"
   ]
  },
  {
   "cell_type": "code",
   "execution_count": null,
   "metadata": {},
   "outputs": [],
   "source": [
    "sns.catplot(x='sex',y='total_bill', data=df_tips, kind='box')"
   ]
  },
  {
   "cell_type": "code",
   "execution_count": null,
   "metadata": {},
   "outputs": [],
   "source": [
    "sns.catplot(x='sex',y='total_bill', data=df_tips, kind='box', col='day', col_wrap=2, palette='Dark2',aspect=1, height=3)"
   ]
  },
  {
   "cell_type": "code",
   "execution_count": null,
   "metadata": {},
   "outputs": [],
   "source": [
    "sns.catplot(x='sex',y='total_bill', data=df_tips, kind='box', hue='smoker' , col='day',palette='Dark2', col_wrap=2, aspect=1, height=3)"
   ]
  },
  {
   "cell_type": "markdown",
   "metadata": {},
   "source": [
    "<div id='dispersão'><id/>\n",
    "\n",
    "## Diagrama de dispersão\n",
    "    Mostra a relação entre duas variáveis "
   ]
  },
  {
   "cell_type": "code",
   "execution_count": null,
   "metadata": {},
   "outputs": [],
   "source": [
    "df_tips=sns.load_dataset('tips')\n",
    "df_tips.head(3)"
   ]
  },
  {
   "cell_type": "markdown",
   "metadata": {},
   "source": [
    "[scatterplot()](https://seaborn.pydata.org/generated/seaborn.scatterplot.html)"
   ]
  },
  {
   "cell_type": "code",
   "execution_count": null,
   "metadata": {},
   "outputs": [],
   "source": [
    "sns.scatterplot(x='total_bill',y='tip', data=df_tips)"
   ]
  },
  {
   "cell_type": "code",
   "execution_count": null,
   "metadata": {},
   "outputs": [],
   "source": [
    "sns.scatterplot(x='total_bill',y='tip', hue='sex', alpha=0.8 ,data=df_tips)"
   ]
  },
  {
   "cell_type": "code",
   "execution_count": null,
   "metadata": {},
   "outputs": [],
   "source": [
    "sns.scatterplot(x='total_bill',y='tip', hue='sex', style='time' ,alpha=0.9,data=df_tips)"
   ]
  },
  {
   "cell_type": "code",
   "execution_count": null,
   "metadata": {},
   "outputs": [],
   "source": [
    "sns.scatterplot(x='total_bill',y='tip', hue='size' ,alpha=0.9,data=df_tips)"
   ]
  },
  {
   "cell_type": "code",
   "execution_count": null,
   "metadata": {},
   "outputs": [],
   "source": [
    "sns.scatterplot(x=\"total_bill\", y=\"tip\", hue=\"size\", size=\"size\", data=df_tips)"
   ]
  },
  {
   "cell_type": "code",
   "execution_count": null,
   "metadata": {},
   "outputs": [],
   "source": [
    "markers = {\"Male\": \"s\", \"Female\": \"X\"}\n",
    "sns.scatterplot(x=\"total_bill\", y=\"tip\", hue=\"time\", size=\"size\", style='sex', palette='Set1', sizes=(10, 150),  markers=markers, data=df_tips)"
   ]
  },
  {
   "cell_type": "markdown",
   "metadata": {},
   "source": [
    "[relplot()](https://seaborn.pydata.org/generated/seaborn.relplot.html#seaborn.relplot)"
   ]
  },
  {
   "cell_type": "code",
   "execution_count": null,
   "metadata": {},
   "outputs": [],
   "source": [
    "sns.relplot(x=\"total_bill\", y=\"tip\", hue=\"day\", data=df_tips)"
   ]
  },
  {
   "cell_type": "code",
   "execution_count": null,
   "metadata": {},
   "outputs": [],
   "source": [
    "sns.relplot(x=\"total_bill\", y=\"tip\", hue=\"sex\", col='day', col_wrap=2, height=4,data=df_tips)"
   ]
  },
  {
   "cell_type": "markdown",
   "metadata": {},
   "source": [
    "[pairplot()](https://seaborn.pydata.org/generated/seaborn.pairplot.html#seaborn.pairplot)"
   ]
  },
  {
   "cell_type": "code",
   "execution_count": null,
   "metadata": {},
   "outputs": [],
   "source": [
    "df_iris = sns.load_dataset(\"iris\")\n",
    "df_iris.head(3)"
   ]
  },
  {
   "cell_type": "code",
   "execution_count": null,
   "metadata": {},
   "outputs": [],
   "source": [
    "sns.pairplot(df_iris)"
   ]
  },
  {
   "cell_type": "code",
   "execution_count": null,
   "metadata": {},
   "outputs": [],
   "source": [
    "sns.pairplot(data=df_iris, hue='species')"
   ]
  },
  {
   "cell_type": "code",
   "execution_count": null,
   "metadata": {},
   "outputs": [],
   "source": [
    "sns.pairplot(df_iris, hue='species',diag_kind=\"hist\", corner=True)"
   ]
  },
  {
   "cell_type": "code",
   "execution_count": null,
   "metadata": {
    "jupyter": {
     "source_hidden": true
    }
   },
   "outputs": [],
   "source": [
    "#Importando Excel\n",
    "file='dados/IDH.xlsx'\n",
    "df_idh=pd.read_excel(file, sheet_name=\"Base\")\n",
    "replace={'Outros':'Out', 'C.Vicioso':'Cvic', 'T.Desenvolvimento':'TD', 'T.Crescimento':'TC','C.Virtuoso':'Cvir'}\n",
    "df_idh.ND.replace(replace, inplace=True)\n",
    "\n",
    "print(df_idh.shape)\n",
    "df_idh.head()"
   ]
  },
  {
   "cell_type": "code",
   "execution_count": null,
   "metadata": {},
   "outputs": [],
   "source": [
    "df_idh_empilhado=df_idh.melt(['Espacialidades','ND']).copy()\n",
    "df_idh_empilhado['value']=df_idh_empilhado['value'].round(2)\n",
    "df_idh_empilhado"
   ]
  },
  {
   "cell_type": "code",
   "execution_count": null,
   "metadata": {},
   "outputs": [],
   "source": [
    "g=sns.FacetGrid(df_idh_empilhado, col = \"variable\",col_wrap=4, sharex=False,sharey=False)\n",
    "g.map(sns.histplot, \"value\", color = \"steelblue\" );"
   ]
  },
  {
   "cell_type": "code",
   "execution_count": null,
   "metadata": {},
   "outputs": [],
   "source": [
    "sns.catplot(x='ND',y='value', data=df_idh_empilhado, col='variable',col_wrap=4, kind='box', sharey=False, height=2.5, aspect=1.5 ,color='steelblue',linewidth=1.2, fliersize=2)"
   ]
  },
  {
   "cell_type": "markdown",
   "metadata": {},
   "source": [
    "## Referências\n",
    "\n",
    "LARSON, R.; FARBER, B. ESTATÍSTICA APLICADA–4ª. 2010.\n",
    "\n",
    "BRUCE, Peter; BRUCE, Andrew; GEDECK, Peter. Practical Statistics for Data Scientists: 50+ Essential Concepts Using R and Python. O'Reilly Media, 2020.\n",
    "\n",
    "BINDU, K. Hima et al. Coefficient of variation and machine learning applications. CRC Press, 2019.\n",
    "\n",
    "https://pandas.pydata.org/pandas-docs/stable/index.html\n",
    "\n",
    "https://seaborn.pydata.org/index.html\n"
   ]
  },
  {
   "cell_type": "code",
   "execution_count": null,
   "metadata": {},
   "outputs": [],
   "source": []
  }
 ],
 "metadata": {
  "kernelspec": {
   "display_name": "Python 3",
   "language": "python",
   "name": "python3"
  },
  "language_info": {
   "codemirror_mode": {
    "name": "ipython",
    "version": 3
   },
   "file_extension": ".py",
   "mimetype": "text/x-python",
   "name": "python",
   "nbconvert_exporter": "python",
   "pygments_lexer": "ipython3",
   "version": "3.8.6"
  }
 },
 "nbformat": 4,
 "nbformat_minor": 4
}
