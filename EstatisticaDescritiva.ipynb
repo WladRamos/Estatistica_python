{
 "cells": [
  {
   "cell_type": "markdown",
   "metadata": {},
   "source": [
    "# <font color='#004772'>Estatística <font/>\n",
    "\n",
    "\"É a ciência que coleta, organiza, analisa e interpreta dados para tomada de decisões\" (LARSON; FABER, 2014)\n",
    "\n",
    "\n",
    "Como disciplina a estatística se desenvolveu no século passado. Fundamentado na teoria da probabilidade desenvolvida no século *17* a *19* com base nos trabalhos de  **Thomas Bayes, Pierre-Simon Laplace e Carl Gauss**. A estatística moderna tem suas raízes no final do século 19 com **Francis Galton e Karl Pearson. R. A. Fisher**, no início do século 20, foi um dos pioneiros da estatística moderna, introduzindo idéias-chave de projeto experimental e estimativa de máxima verossimilhança (BRUCE et al. 2020)\n",
    "\n",
    "## Estatística descritiva\n",
    "\n",
    "É o ramo da estatística que envolve a organização, o\n",
    "resumo e a representação dos dados."
   ]
  },
  {
   "cell_type": "markdown",
   "metadata": {},
   "source": [
    "<div id='sumario'><div/>\n",
    "\n",
    "## Sumário\n",
    "1. [**Medidas de tendência central**](#MTC)             \n",
    "    1.1 [Média](#media)  \n",
    "    1.2 [Mediana e quantil](#mediana)  \n",
    "    1.3 [Moda](#moda)\n",
    "2. [**Medidas de dispersão**](#MD)   \n",
    "    2.1 [Amplitude](#a)  \n",
    "    2.2 [Variância](#variancia)    \n",
    "    2.3 [Desvio padrão](#sd)  \n",
    "    2.4 [Erro padrão](#se)  \n",
    "    2.5 [Coeficiente de variação](#cv)  \n",
    "3. [**Visualização**](#visualização)  \n",
    "    3.1 [Gráfico de barras](#barra)  \n",
    "    3.2 [Gráfico de linhas](#linha)         \n",
    "    3.3 [Histograma](#histograma)    \n",
    "    3.4 [Boxplot](#boxplot)     \n",
    "    3.5 [Diagrama de dispersão](#dispersão)\n",
    "    "
   ]
  },
  {
   "cell_type": "markdown",
   "metadata": {},
   "source": [
    "**Importes**"
   ]
  },
  {
   "cell_type": "code",
   "execution_count": null,
   "metadata": {},
   "outputs": [],
   "source": [
    "from math import sqrt\n",
    "\n",
    "import matplotlib.pyplot as plt\n",
    "import numpy as np\n",
    "import pandas as pd\n",
    "import seaborn as sns\n",
    "from scipy import stats"
   ]
  },
  {
   "cell_type": "markdown",
   "metadata": {},
   "source": [
    "<div id=\"MTC\"></div>   \n",
    "\n",
    "## 1 [Medidas de tendência central](#sumario)\n",
    "    As medidas de tendência central definem valores significativos, representativos e adequados para um conjunto de dados, dependendo do que se deseja analisar. São elas a média, mediana, quantis e a moda.\n",
    "<div id=\"media\"></div>       \n",
    " \n",
    "###    1.1 Média\n",
    "    A média é uma medida de tendência central que indica o valor onde estão concentrados os dados de um conjunto de valores, representando um valor significativo para o mesmo.\n",
    " "
   ]
  },
  {
   "cell_type": "code",
   "execution_count": null,
   "metadata": {},
   "outputs": [],
   "source": [
    "from IPython.display import Image\n",
    "Image(filename='Formulas/media.gif', width=100, height=100)"
   ]
  },
  {
   "cell_type": "code",
   "execution_count": null,
   "metadata": {},
   "outputs": [],
   "source": [
    "# Média em uma lista\n",
    "lista=[2,3,4,3,5]\n",
    "np.mean(lista)\n",
    "# média com valores faltantes\n",
    "np.nanmean([2,3,4,3,np.nan,5])"
   ]
  },
  {
   "cell_type": "code",
   "execution_count": null,
   "metadata": {},
   "outputs": [],
   "source": [
    "# Média em um objeto pandas\n",
    "df=pd.DataFrame({'A':[2,3,4,3,5],'B':[2,3,4,3,np.nan]})\n",
    "df"
   ]
  },
  {
   "cell_type": "code",
   "execution_count": null,
   "metadata": {},
   "outputs": [],
   "source": [
    "print('media de A:',df['A'].mean())\n",
    "print('media de B:',df['B'].mean())"
   ]
  },
  {
   "cell_type": "code",
   "execution_count": null,
   "metadata": {},
   "outputs": [],
   "source": [
    "# média do dataframe\n",
    "df.mean()\n",
    "# df.apply(np.mean, axis=0)"
   ]
  },
  {
   "cell_type": "code",
   "execution_count": null,
   "metadata": {},
   "outputs": [],
   "source": [
    "#Substituir valor faltante"
   ]
  },
  {
   "cell_type": "code",
   "execution_count": null,
   "metadata": {},
   "outputs": [],
   "source": [
    "df['B']=df['B'].fillna(np.nanmedian(df.B))\n",
    "df"
   ]
  },
  {
   "cell_type": "markdown",
   "metadata": {},
   "source": [
    "<div id=\"mediana\"></div> \n",
    "\n",
    "### 1.2 Mediana e Quantil\n",
    "    A mediana é o valor que separa a metade superior da metade inferior de uma distribuição de dados, ou o valor no centro da distribuição. Na prática, se o número de observações na distribuição é ímpar, ele é o valor central, e se o número de observações é par, ele será a média das duas observações mais centrais. "
   ]
  },
  {
   "cell_type": "code",
   "execution_count": null,
   "metadata": {},
   "outputs": [],
   "source": [
    "from IPython.display import Image\n",
    "Image(filename='Formulas/mediana.png', width=200, height=100)"
   ]
  },
  {
   "cell_type": "code",
   "execution_count": null,
   "metadata": {},
   "outputs": [],
   "source": [
    "lista=[2,3,4,3,5]\n",
    "np.median(lista)"
   ]
  },
  {
   "cell_type": "code",
   "execution_count": null,
   "metadata": {},
   "outputs": [],
   "source": [
    "df.median()"
   ]
  },
  {
   "cell_type": "code",
   "execution_count": null,
   "metadata": {},
   "outputs": [],
   "source": [
    "np.quantile(lista, q=[0.25,0.5,0.75])"
   ]
  },
  {
   "cell_type": "markdown",
   "metadata": {},
   "source": [
    "### 1.3 Moda\n",
    "Valor mais frequente"
   ]
  },
  {
   "cell_type": "code",
   "execution_count": null,
   "metadata": {},
   "outputs": [],
   "source": [
    "lista=[2,3,2,3,4,3,5,3,6,8,4,6,6]\n",
    "x=stats.mode(lista)\n",
    "x\n",
    "# df.mode()"
   ]
  },
  {
   "cell_type": "markdown",
   "metadata": {},
   "source": [
    "<div id=\"MD\"></div>   \n",
    "\n",
    "## 2 [Medidas de dispersão](#suamrio)"
   ]
  },
  {
   "cell_type": "markdown",
   "metadata": {},
   "source": [
    "<div id=\"a\">   \n",
    "\n",
    "### 2.1 Amplitude"
   ]
  },
  {
   "cell_type": "code",
   "execution_count": null,
   "metadata": {},
   "outputs": [],
   "source": [
    "np.random.seed(111)\n",
    "\n",
    "lista=np.random.randint(2,10,15)\n",
    "lista\n",
    "minimo=np.min(lista)\n",
    "maximo=np.max(lista)\n",
    "\n",
    "print('A amplitude:',maximo-minimo)"
   ]
  },
  {
   "cell_type": "markdown",
   "metadata": {},
   "source": [
    "<div id='variancia'>\n",
    "\n",
    "### 2.2 Variância"
   ]
  },
  {
   "cell_type": "code",
   "execution_count": null,
   "metadata": {},
   "outputs": [],
   "source": [
    "from IPython.display import Image\n",
    "Image(filename='Formulas/variancia.jpg', width=150 , height=100)"
   ]
  },
  {
   "cell_type": "code",
   "execution_count": null,
   "metadata": {},
   "outputs": [],
   "source": [
    "np.random.seed(111)\n",
    "A=np.random.randint(5,10,10)\n",
    "print('lista A:',A)\n",
    "print('Variância populacional',np.var(A))\n",
    "print('Variância amostral',np.var(A,ddof=1))"
   ]
  },
  {
   "cell_type": "code",
   "execution_count": null,
   "metadata": {},
   "outputs": [],
   "source": [
    "def var(x):\n",
    "    v=np.sum((x-np.mean(x))**2)/(np.size(x)-1)\n",
    "    return v\n",
    "var(A)"
   ]
  },
  {
   "cell_type": "markdown",
   "metadata": {},
   "source": [
    "<div id=\"sd\">   \n",
    "\n",
    "### 2.3 Desvio padrão"
   ]
  },
  {
   "cell_type": "code",
   "execution_count": null,
   "metadata": {},
   "outputs": [],
   "source": [
    "from IPython.display import Image\n",
    "Image(filename='Formulas/desvio_padrao.png', width=150 , height=100)"
   ]
  },
  {
   "cell_type": "code",
   "execution_count": null,
   "metadata": {},
   "outputs": [],
   "source": [
    "# Desvio padrão em uma lista \n",
    "lista=[2,3,4,3,5]\n",
    "std=np.std(lista)\n",
    "std_nan=np.nanstd([2,3,4,3,np.nan,5])\n",
    "\n",
    "print('Desvio padrão = {}\\nDesvio padrão NaN = {}'. format(round(std,2),round(std_nan,2)))"
   ]
  },
  {
   "cell_type": "code",
   "execution_count": null,
   "metadata": {},
   "outputs": [],
   "source": [
    "# Desvio padrão amostral\n",
    "std_amostral=df['A'].std()\n",
    "# Desvio padrão populacional\n",
    "std_populacional=df['A'].std(ddof=0)\n",
    "\n",
    "print('Desvio padrão amostral: {}\\nDesvio padrão populacional: {}'.format(std_amostral,std_populacional))"
   ]
  },
  {
   "cell_type": "code",
   "execution_count": null,
   "metadata": {},
   "outputs": [],
   "source": [
    "# std do dataframe\n",
    "df.std()\n",
    "# df.apply(np.std, axis=0)"
   ]
  },
  {
   "cell_type": "markdown",
   "metadata": {},
   "source": [
    "<div id=\"se\"></div>   \n",
    "\n",
    "### 2.3 Erro Padrão"
   ]
  },
  {
   "cell_type": "code",
   "execution_count": null,
   "metadata": {},
   "outputs": [],
   "source": [
    "from IPython.display import Image\n",
    "Image(filename='Formulas/erro_padrao.png', width=100 , height=100)"
   ]
  },
  {
   "cell_type": "code",
   "execution_count": null,
   "metadata": {},
   "outputs": [],
   "source": [
    "def se(x):\n",
    "    e=np.std(x,ddof=1)/sqrt(np.size(x))\n",
    "    return e"
   ]
  },
  {
   "cell_type": "code",
   "execution_count": null,
   "metadata": {},
   "outputs": [],
   "source": [
    "se(lista)"
   ]
  },
  {
   "cell_type": "code",
   "execution_count": null,
   "metadata": {},
   "outputs": [],
   "source": [
    "df.apply(se, axis=0)"
   ]
  },
  {
   "cell_type": "markdown",
   "metadata": {},
   "source": [
    "<div id=\"cv\"></div>   \n",
    "\n",
    "### 2.4 Coeficiente de variação"
   ]
  },
  {
   "cell_type": "code",
   "execution_count": null,
   "metadata": {},
   "outputs": [],
   "source": [
    "from IPython.display import Image\n",
    "Image(filename='Formulas/cv.JPG', width=150 , height=100)"
   ]
  },
  {
   "cell_type": "code",
   "execution_count": null,
   "metadata": {},
   "outputs": [],
   "source": [
    "# Função anônima\n",
    "cv=lambda x: np.std(x, ddof=1)/np.mean(x)*100\n",
    "cv(lista)"
   ]
  },
  {
   "cell_type": "code",
   "execution_count": null,
   "metadata": {},
   "outputs": [],
   "source": [
    "df.apply(cv, axis=0)"
   ]
  },
  {
   "cell_type": "code",
   "execution_count": null,
   "metadata": {},
   "outputs": [],
   "source": [
    "np.random.seed(111)\n",
    "\n",
    "l1=np.random.randint(1,10,10)\n",
    "l2=np.random.randint(100,110,10)\n",
    "std1, std2 = np.std(l1), np.std(l2)\n",
    "print('Quem varia mais?')\n",
    "print('Desvio padrão l1:{:.2f} \\nDesvio padrão l2:{:.2f}'.format(std1,std2))"
   ]
  },
  {
   "cell_type": "code",
   "execution_count": null,
   "metadata": {},
   "outputs": [],
   "source": [
    "print('Desvio padrão l1:{:.2f} {:.2f}% \\nDesvio padrão l2:{:.2f} {:.2f}%'.format(round(std1,2), cv(l1),round(std2,2), cv(l2)))"
   ]
  },
  {
   "cell_type": "markdown",
   "metadata": {},
   "source": [
    "## Exercício "
   ]
  },
  {
   "cell_type": "markdown",
   "metadata": {},
   "source": [
    "As idades dos funcionários em um departamento estão listadas a seguir:  \n",
    "`[34,27,50,45,41,37,24,57,40,38,62,44,39,40,36,32,25,22,42,31,55,46]`  \n",
    "Calcule a média, desvio padrão amostral, erro padrão, mediana, e os quantis(0.25,0.5,0.75).  \n",
    "Represente os devidos resultados da seguinte maneira \"medida de tendência central $\\pm$ medida de disperção\"  \n",
    "\n",
    "\n",
    "\n",
    "\n",
    "\n"
   ]
  },
  {
   "cell_type": "code",
   "execution_count": null,
   "metadata": {},
   "outputs": [],
   "source": [
    "print(\"\\u00B1\")"
   ]
  },
  {
   "cell_type": "code",
   "execution_count": null,
   "metadata": {},
   "outputs": [],
   "source": [
    "#Importando Excel\n",
    "file='dados/IDH.xlsx'\n",
    "df_idh=pd.read_excel(file, sheet_name=\"Base\")\n",
    "\n",
    "print(df_idh.shape)\n",
    "df_idh.head()"
   ]
  },
  {
   "cell_type": "markdown",
   "metadata": {},
   "source": [
    "<div id=\"visualização\"></div>   \n",
    "\n",
    "# [<font color='#004772'>3 Visualização  de gráficos estatísticos com seaborns](#sumario) <font/>\n",
    "\n",
    "Na estatística é comun visualizar os dados graficamente"
   ]
  },
  {
   "cell_type": "code",
   "execution_count": null,
   "metadata": {},
   "outputs": [],
   "source": [
    "# Carregando um dos datasets que vem com o Seaborn\n",
    "df_tips = sns.load_dataset(\"tips\")\n",
    "df_tips.head()"
   ]
  },
  {
   "cell_type": "code",
   "execution_count": null,
   "metadata": {},
   "outputs": [],
   "source": [
    "from IPython.display import Image\n",
    "Image(filename='Formulas/tipo_dados.jpg', width=800 , height=720)"
   ]
  },
  {
   "cell_type": "code",
   "execution_count": null,
   "metadata": {},
   "outputs": [],
   "source": [
    "print(df_tips.dtypes)\n",
    "df_tips.head()"
   ]
  },
  {
   "cell_type": "markdown",
   "metadata": {},
   "source": [
    "<div id='barra'><div/>\n",
    "\n",
    "## 3.1 Grafico de barras"
   ]
  },
  {
   "cell_type": "code",
   "execution_count": null,
   "metadata": {},
   "outputs": [],
   "source": [
    "#Temas\n",
    "print(plt.style.available)"
   ]
  },
  {
   "cell_type": "markdown",
   "metadata": {},
   "source": [
    "Paleta de cores\n",
    "https://matplotlib.org/3.1.1/gallery/color/colormap_reference.html"
   ]
  },
  {
   "cell_type": "code",
   "execution_count": null,
   "metadata": {},
   "outputs": [],
   "source": [
    "plt.style.use('seaborn')\n",
    "\n",
    "plt.figure(figsize=(8,4))\n",
    "# fig=sns.barplot(x='day',y='total_bill', data=df_tips, ci='sd')\n",
    "fig=sns.barplot(x='day',y='total_bill', data=df_tips, ci='sd', errwidth=1.2, edgecolor=\"black\", capsize=0.1)"
   ]
  },
  {
   "cell_type": "code",
   "execution_count": null,
   "metadata": {},
   "outputs": [],
   "source": [
    "plt.figure(figsize=(8,4))\n",
    "\n",
    "fig=sns.barplot(x='day',y='total_bill', hue='time' ,data=df_tips, ci=95,errwidth=1.2)"
   ]
  },
  {
   "cell_type": "code",
   "execution_count": null,
   "metadata": {},
   "outputs": [],
   "source": [
    "sns.barplot(x='day',y='total_bill', data=df_tips, hue='sex', errwidth=1.2, edgecolor=\"black\", capsize=0.1)"
   ]
  },
  {
   "cell_type": "code",
   "execution_count": null,
   "metadata": {},
   "outputs": [],
   "source": [
    "df_count=df_tips['sex'].value_counts()\n",
    "df_count"
   ]
  },
  {
   "cell_type": "code",
   "execution_count": null,
   "metadata": {},
   "outputs": [],
   "source": [
    "sns.barplot(x=df_count.index,y=df_count)\n",
    "# sns.countplot(x='sex', data=df_tips)"
   ]
  },
  {
   "cell_type": "markdown",
   "metadata": {},
   "source": [
    "[catplot()](https://seaborn.pydata.org/tutorial/categorical.html)"
   ]
  },
  {
   "cell_type": "code",
   "execution_count": null,
   "metadata": {},
   "outputs": [],
   "source": [
    "sns.catplot(x=\"sex\", kind=\"count\", data=df_tips)"
   ]
  },
  {
   "cell_type": "code",
   "execution_count": null,
   "metadata": {},
   "outputs": [],
   "source": [
    "sns.catplot(x=\"sex\", kind=\"count\", hue='time' , palette='Set1' ,data=df_tips)"
   ]
  },
  {
   "cell_type": "code",
   "execution_count": null,
   "metadata": {},
   "outputs": [],
   "source": [
    "sns.catplot(x=\"sex\", kind=\"count\", hue='time', col='day', col_wrap=2, palette='Set1' ,data=df_tips)"
   ]
  },
  {
   "cell_type": "code",
   "execution_count": null,
   "metadata": {},
   "outputs": [],
   "source": [
    "sns.catplot(x=\"day\", y='total_bill', kind=\"bar\", hue='smoker',col='sex', col_wrap=2, palette='Set1', data=df_tips, errwidth=1.2, edgecolor=\"black\", capsize=0.1) "
   ]
  },
  {
   "cell_type": "code",
   "execution_count": null,
   "metadata": {},
   "outputs": [],
   "source": [
    "g=sns.catplot(x=\"day\", y='total_bill', kind=\"bar\", col='sex', row='smoker', data=df_tips, palette='winter', errwidth=1.2, edgecolor=\"black\", capsize=0.1) \n",
    "g.set_axis_labels(x='dia', y='conta')"
   ]
  },
  {
   "cell_type": "markdown",
   "metadata": {},
   "source": [
    "<div id='linha'><div>\n",
    "\n",
    "## 3.2 Grafico de Linhas"
   ]
  },
  {
   "cell_type": "markdown",
   "metadata": {},
   "source": [
    "[lineplot()](https://seaborn.pydata.org/generated/seaborn.lineplot.html)"
   ]
  },
  {
   "cell_type": "code",
   "execution_count": null,
   "metadata": {},
   "outputs": [],
   "source": [
    "df_flights = sns.load_dataset(\"flights\")\n",
    "df_flights.head()"
   ]
  },
  {
   "cell_type": "code",
   "execution_count": null,
   "metadata": {},
   "outputs": [],
   "source": [
    "df_flights_may = df_flights.query(\"month == 'May'\")\n",
    "g=sns.lineplot(data=df_flights_may, x=\"year\", y=\"passengers\")"
   ]
  },
  {
   "cell_type": "code",
   "execution_count": null,
   "metadata": {},
   "outputs": [],
   "source": [
    "sns.lineplot(data=df_flights, x=\"year\", y=\"passengers\")"
   ]
  },
  {
   "cell_type": "code",
   "execution_count": null,
   "metadata": {},
   "outputs": [],
   "source": [
    "sns.lineplot(data=df_flights, x=\"year\", y=\"passengers\", hue=\"month\")"
   ]
  },
  {
   "cell_type": "code",
   "execution_count": null,
   "metadata": {},
   "outputs": [],
   "source": [
    "sns.lineplot(data=df_flights, x=\"year\", y=\"passengers\", hue=\"month\", style=\"month\")"
   ]
  },
  {
   "cell_type": "markdown",
   "metadata": {},
   "source": [
    "[relplot()](https://seaborn.pydata.org/generated/seaborn.relplot.html#seaborn.relplot)"
   ]
  },
  {
   "cell_type": "code",
   "execution_count": null,
   "metadata": {},
   "outputs": [],
   "source": [
    "sns.relplot(x='year',y='passengers', kind='line' ,data=df_flights)"
   ]
  },
  {
   "cell_type": "code",
   "execution_count": null,
   "metadata": {},
   "outputs": [],
   "source": [
    "sns.relplot(x='year',y='passengers', kind='line', col='month', col_wrap=3 ,data=df_flights)"
   ]
  },
  {
   "cell_type": "markdown",
   "metadata": {},
   "source": [
    "<div id='histograma'><div/>\n",
    "\n",
    "## 3.3 Histograma\n"
   ]
  },
  {
   "cell_type": "code",
   "execution_count": null,
   "metadata": {},
   "outputs": [],
   "source": [
    "# Carregando um dos datasets que vem com o Seaborn\n",
    "df_tips = sns.load_dataset(\"tips\")\n",
    "df_tips.head()"
   ]
  },
  {
   "cell_type": "markdown",
   "metadata": {},
   "source": [
    "[histplot()](https://seaborn.pydata.org/generated/seaborn.histplot.html)"
   ]
  },
  {
   "cell_type": "code",
   "execution_count": null,
   "metadata": {},
   "outputs": [],
   "source": [
    "g=sns.histplot(x='total_bill',data=df_tips)\n",
    "# g.figure.savefig('hist.png', dpi=300)"
   ]
  },
  {
   "cell_type": "code",
   "execution_count": null,
   "metadata": {},
   "outputs": [],
   "source": []
  },
  {
   "cell_type": "markdown",
   "metadata": {},
   "source": [
    "### 3.3.1 Distribuição de frequência\n",
    "\n",
    "Mostra o número de observações que estão em um intervalo específico "
   ]
  },
  {
   "cell_type": "code",
   "execution_count": null,
   "metadata": {},
   "outputs": [],
   "source": [
    "from IPython.display import Image\n",
    "Image(filename='Formulas/distribuicao_freq.jpg', width=720 , height=720)"
   ]
  },
  {
   "cell_type": "code",
   "execution_count": null,
   "metadata": {},
   "outputs": [],
   "source": [
    "np.random.seed(3)\n",
    "lista=np.random.randint(3,10,15)\n",
    "lista"
   ]
  },
  {
   "cell_type": "code",
   "execution_count": null,
   "metadata": {},
   "outputs": [],
   "source": [
    "# pd series \n",
    "df_freq=pd.Series(lista).value_counts().reset_index().sort_values('index').reset_index(drop=True)\n",
    "df_freq.columns=['classe','Freq.']\n",
    "df_freq"
   ]
  },
  {
   "cell_type": "code",
   "execution_count": null,
   "metadata": {},
   "outputs": [],
   "source": [
    "# pd series, alterar número de classes\n",
    "df_freq=pd.Series(lista).value_counts(bins=3).reset_index().sort_values('index').reset_index(drop=True)\n",
    "df_freq.columns=['classe','Freq.']\n",
    "df_freq"
   ]
  },
  {
   "cell_type": "code",
   "execution_count": null,
   "metadata": {},
   "outputs": [],
   "source": [
    "# pd.cut() Use cut when you need to segment and sort data values into bins\n",
    "df_freq=pd.DataFrame(dict(valor=lista))\n",
    "df_freq['classe']=pd.cut(lista, bins=4)\n",
    "df_freq.groupby('classe').size().to_frame(name='valor').reset_index()"
   ]
  },
  {
   "cell_type": "code",
   "execution_count": null,
   "metadata": {},
   "outputs": [],
   "source": [
    "# pd.cut() Use cut when you need to segment and sort data values into bins\n",
    "df_freq=pd.DataFrame(dict(valor=lista))\n",
    "df_freq['classe']=pd.cut(lista, bins=3,labels=['baixo','regular','alto'])\n",
    "df_freq=df_freq.groupby('classe').size().to_frame(name='Freq.').reset_index()\n",
    "df_freq['freq_rela']=(df_freq['Freq.']/df_freq['Freq.'].sum())*100\n",
    "df_freq.round(2)"
   ]
  },
  {
   "cell_type": "code",
   "execution_count": null,
   "metadata": {},
   "outputs": [],
   "source": [
    "# número de barras\n",
    "g=sns.histplot(x='total_bill',bins=30, data=df_tips)"
   ]
  },
  {
   "cell_type": "markdown",
   "metadata": {},
   "source": [
    "[Número de classes ideal](https://numpy.org/doc/stable/reference/generated/numpy.histogram_bin_edges.html#numpy.histogram_bin_edges)"
   ]
  },
  {
   "cell_type": "code",
   "execution_count": null,
   "metadata": {},
   "outputs": [],
   "source": [
    "# número de barras por estimador\n",
    "g=sns.histplot(x='total_bill',bins='auto', data=df_tips)"
   ]
  },
  {
   "cell_type": "code",
   "execution_count": null,
   "metadata": {},
   "outputs": [],
   "source": [
    "# largura - binwidth\n",
    "g=sns.histplot(x='total_bill',binwidth=3, data=df_tips)"
   ]
  },
  {
   "cell_type": "code",
   "execution_count": null,
   "metadata": {},
   "outputs": [],
   "source": [
    "# kernel density estimate \n",
    "g=sns.histplot(x='total_bill',kde=True , data=df_tips)"
   ]
  },
  {
   "cell_type": "code",
   "execution_count": null,
   "metadata": {},
   "outputs": [],
   "source": [
    "# relativo\n",
    "g=sns.histplot(x='total_bill',stat=\"probability\",  data=df_tips)"
   ]
  },
  {
   "cell_type": "code",
   "execution_count": null,
   "metadata": {},
   "outputs": [],
   "source": [
    "# desenha multiplos histogramas\n",
    "g=sns.histplot(x='total_bill',hue='sex', data=df_tips)"
   ]
  },
  {
   "cell_type": "markdown",
   "metadata": {},
   "source": [
    "[displot()](https://seaborn.pydata.org/generated/seaborn.displot.html#seaborn.displot)"
   ]
  },
  {
   "cell_type": "code",
   "execution_count": null,
   "metadata": {},
   "outputs": [],
   "source": [
    "g=sns.displot(x='total_bill', data=df_tips)"
   ]
  },
  {
   "cell_type": "code",
   "execution_count": null,
   "metadata": {},
   "outputs": [],
   "source": [
    "g=sns.displot(x='total_bill', hue='smoker', col='sex' ,data=df_tips)"
   ]
  },
  {
   "cell_type": "code",
   "execution_count": null,
   "metadata": {},
   "outputs": [],
   "source": [
    "g=sns.displot(x='total_bill', hue='smoker', col='sex' ,data=df_tips, fill=False)"
   ]
  },
  {
   "cell_type": "code",
   "execution_count": null,
   "metadata": {},
   "outputs": [],
   "source": [
    "g=sns.displot(x='total_bill', hue='day', col='sex', kind='kde' ,data=df_tips)"
   ]
  },
  {
   "cell_type": "markdown",
   "metadata": {},
   "source": [
    "<div id='boxplot'><div/>\n",
    "\n",
    "## 3.2 Boxplot"
   ]
  },
  {
   "cell_type": "code",
   "execution_count": null,
   "metadata": {},
   "outputs": [],
   "source": [
    "from IPython.display import Image\n",
    "Image(filename='Formulas/boxplot.png', width=720 , height=720)"
   ]
  },
  {
   "cell_type": "code",
   "execution_count": null,
   "metadata": {},
   "outputs": [],
   "source": [
    "# Carregando um dos datasets que vem com o Seaborn\n",
    "df_tips = sns.load_dataset(\"tips\")"
   ]
  },
  {
   "cell_type": "code",
   "execution_count": null,
   "metadata": {},
   "outputs": [],
   "source": [
    "g=sns.boxplot(x='total_bill', data=df_tips)"
   ]
  },
  {
   "cell_type": "code",
   "execution_count": null,
   "metadata": {},
   "outputs": [],
   "source": [
    "g=sns.boxplot(x='sex',y='total_bill', data=df_tips)"
   ]
  },
  {
   "cell_type": "code",
   "execution_count": null,
   "metadata": {},
   "outputs": [],
   "source": [
    "def norm(x):\n",
    "    z=(x-np.mean(x))/np.std(x,ddof=1)\n",
    "    return z\n",
    "df_tips['total_bill_z']=norm(df_tips['total_bill'])"
   ]
  },
  {
   "cell_type": "code",
   "execution_count": null,
   "metadata": {},
   "outputs": [],
   "source": [
    "fig, ax = plt.subplots(1,2, figsize=(12,5))\n",
    "sns.boxplot(x='sex',y='total_bill', data=df_tips, ax=ax[0])\n",
    "sns.boxplot(x='sex',y='total_bill_z', data=df_tips, ax=ax[1])\n",
    "ax[0].set_title('Não padronizado')\n",
    "ax[1].set_title('Padronizado Z-Score')"
   ]
  },
  {
   "cell_type": "code",
   "execution_count": null,
   "metadata": {},
   "outputs": [],
   "source": [
    "g=sns.boxplot(x='sex',y='total_bill_z', hue='smoker', data=df_tips)"
   ]
  },
  {
   "cell_type": "code",
   "execution_count": null,
   "metadata": {},
   "outputs": [],
   "source": [
    "ax=sns.boxplot(x=\"day\", y=\"total_bill\", data=df_tips, fliersize=0)\n",
    "ax=sns.swarmplot(x=\"day\", y=\"total_bill\", data=df_tips, color=\".25\", alpha=0.6)"
   ]
  },
  {
   "cell_type": "markdown",
   "metadata": {},
   "source": [
    "[catplo()](https://seaborn.pydata.org/generated/seaborn.catplot.html#seaborn.catplot)"
   ]
  },
  {
   "cell_type": "code",
   "execution_count": null,
   "metadata": {},
   "outputs": [],
   "source": [
    "sns.catplot(x='sex',y='total_bill', data=df_tips, kind='box')"
   ]
  },
  {
   "cell_type": "code",
   "execution_count": null,
   "metadata": {},
   "outputs": [],
   "source": [
    "sns.catplot(x='sex',y='total_bill', data=df_tips, kind='box', col='day', col_wrap=2, palette='Dark2',aspect=1, height=3)"
   ]
  },
  {
   "cell_type": "code",
   "execution_count": null,
   "metadata": {},
   "outputs": [],
   "source": [
    "sns.catplot(x='sex',y='total_bill', data=df_tips, kind='box', hue='smoker' , col='day',palette='Dark2', col_wrap=2, aspect=1, height=3)"
   ]
  },
  {
   "cell_type": "markdown",
   "metadata": {},
   "source": [
    "<div id='dispersão'><id/>\n",
    "\n",
    "## Diagrama de dispersão\n",
    "    Mostra a relação entre duas variáveis "
   ]
  },
  {
   "cell_type": "code",
   "execution_count": null,
   "metadata": {},
   "outputs": [],
   "source": [
    "df_tips=sns.load_dataset('tips')\n",
    "df_tips.head(3)"
   ]
  },
  {
   "cell_type": "markdown",
   "metadata": {},
   "source": [
    "[scatterplot()](https://seaborn.pydata.org/generated/seaborn.scatterplot.html)"
   ]
  },
  {
   "cell_type": "code",
   "execution_count": null,
   "metadata": {},
   "outputs": [],
   "source": [
    "sns.scatterplot(x='total_bill',y='tip', data=df_tips)"
   ]
  },
  {
   "cell_type": "code",
   "execution_count": null,
   "metadata": {},
   "outputs": [],
   "source": [
    "sns.scatterplot(x='total_bill',y='tip', hue='sex', alpha=0.8 ,data=df_tips)"
   ]
  },
  {
   "cell_type": "code",
   "execution_count": null,
   "metadata": {},
   "outputs": [],
   "source": [
    "sns.scatterplot(x='total_bill',y='tip', hue='sex', style='time' ,alpha=0.9,data=df_tips)"
   ]
  },
  {
   "cell_type": "code",
   "execution_count": null,
   "metadata": {},
   "outputs": [],
   "source": [
    "sns.scatterplot(x='total_bill',y='tip', hue='size' ,alpha=0.9,data=df_tips)"
   ]
  },
  {
   "cell_type": "code",
   "execution_count": null,
   "metadata": {},
   "outputs": [],
   "source": [
    "sns.scatterplot(x=\"total_bill\", y=\"tip\", hue=\"size\", size=\"size\", data=df_tips)"
   ]
  },
  {
   "cell_type": "code",
   "execution_count": null,
   "metadata": {},
   "outputs": [],
   "source": [
    "markers = {\"Male\": \"s\", \"Female\": \"X\"}\n",
    "sns.scatterplot(x=\"total_bill\", y=\"tip\", hue=\"time\", size=\"size\", style='sex', palette='Set1', sizes=(10, 150),  markers=markers, data=df_tips)"
   ]
  },
  {
   "cell_type": "markdown",
   "metadata": {},
   "source": [
    "[relplot()](https://seaborn.pydata.org/generated/seaborn.relplot.html#seaborn.relplot)"
   ]
  },
  {
   "cell_type": "code",
   "execution_count": null,
   "metadata": {},
   "outputs": [],
   "source": [
    "sns.relplot(x=\"total_bill\", y=\"tip\", hue=\"day\", data=df_tips)"
   ]
  },
  {
   "cell_type": "code",
   "execution_count": null,
   "metadata": {},
   "outputs": [],
   "source": [
    "sns.relplot(x=\"total_bill\", y=\"tip\", hue=\"sex\", col='day', col_wrap=2, height=4,data=df_tips)"
   ]
  },
  {
   "cell_type": "markdown",
   "metadata": {},
   "source": [
    "[pairplot()](https://seaborn.pydata.org/generated/seaborn.pairplot.html#seaborn.pairplot)"
   ]
  },
  {
   "cell_type": "code",
   "execution_count": null,
   "metadata": {},
   "outputs": [],
   "source": [
    "df_iris = sns.load_dataset(\"iris\")\n",
    "df_iris.head(3)"
   ]
  },
  {
   "cell_type": "code",
   "execution_count": null,
   "metadata": {},
   "outputs": [],
   "source": [
    "sns.pairplot(df_iris)"
   ]
  },
  {
   "cell_type": "code",
   "execution_count": null,
   "metadata": {},
   "outputs": [],
   "source": [
    "sns.pairplot(data=df_iris, hue='species')"
   ]
  },
  {
   "cell_type": "code",
   "execution_count": null,
   "metadata": {},
   "outputs": [],
   "source": [
    "sns.pairplot(df_iris, hue='species',diag_kind=\"hist\", corner=True)"
   ]
  },
  {
   "cell_type": "code",
   "execution_count": null,
   "metadata": {
    "jupyter": {
     "source_hidden": true
    }
   },
   "outputs": [],
   "source": [
    "#Importando Excel\n",
    "file='dados/IDH.xlsx'\n",
    "df_idh=pd.read_excel(file, sheet_name=\"Base\")\n",
    "replace={'Outros':'Out', 'C.Vicioso':'Cvic', 'T.Desenvolvimento':'TD', 'T.Crescimento':'TC','C.Virtuoso':'Cvir'}\n",
    "df_idh.ND.replace(replace, inplace=True)\n",
    "\n",
    "print(df_idh.shape)\n",
    "df_idh.head()"
   ]
  },
  {
   "cell_type": "code",
   "execution_count": null,
   "metadata": {},
   "outputs": [],
   "source": [
    "df_idh_empilhado=df_idh.melt(['Espacialidades','ND']).copy()\n",
    "df_idh_empilhado['value']=df_idh_empilhado['value'].round(2)\n",
    "df_idh_empilhado"
   ]
  },
  {
   "cell_type": "code",
   "execution_count": null,
   "metadata": {},
   "outputs": [],
   "source": [
    "g=sns.FacetGrid(df_idh_empilhado, col = \"variable\",col_wrap=4, sharex=False,sharey=False)\n",
    "g.map(sns.histplot, \"value\", color = \"steelblue\" );"
   ]
  },
  {
   "cell_type": "code",
   "execution_count": null,
   "metadata": {},
   "outputs": [],
   "source": [
    "sns.catplot(x='ND',y='value', data=df_idh_empilhado, col='variable',col_wrap=4, kind='box', sharey=False, height=2.5, aspect=1.5 ,color='steelblue',linewidth=1.2, fliersize=2)"
   ]
  },
  {
   "cell_type": "markdown",
   "metadata": {},
   "source": [
    "## Referências\n",
    "\n",
    "LARSON, R.; FARBER, B. ESTATÍSTICA APLICADA–4ª. 2010.\n",
    "\n",
    "BRUCE, Peter; BRUCE, Andrew; GEDECK, Peter. Practical Statistics for Data Scientists: 50+ Essential Concepts Using R and Python. O'Reilly Media, 2020.\n",
    "\n",
    "https://pandas.pydata.org/pandas-docs/stable/index.html\n",
    "\n",
    "https://seaborn.pydata.org/index.html\n"
   ]
  },
  {
   "cell_type": "code",
   "execution_count": null,
   "metadata": {},
   "outputs": [],
   "source": []
  }
 ],
 "metadata": {
  "kernelspec": {
   "display_name": "Python 3",
   "language": "python",
   "name": "python3"
  },
  "language_info": {
   "codemirror_mode": {
    "name": "ipython",
    "version": 3
   },
   "file_extension": ".py",
   "mimetype": "text/x-python",
   "name": "python",
   "nbconvert_exporter": "python",
   "pygments_lexer": "ipython3",
   "version": "3.8.6"
  }
 },
 "nbformat": 4,
 "nbformat_minor": 4
}
